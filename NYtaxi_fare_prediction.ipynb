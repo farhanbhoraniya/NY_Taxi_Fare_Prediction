{
  "nbformat": 4,
  "nbformat_minor": 0,
  "metadata": {
    "kernelspec": {
      "name": "python3",
      "display_name": "Python 3"
    },
    "language_info": {
      "codemirror_mode": {
        "name": "ipython",
        "version": 3
      },
      "file_extension": ".py",
      "mimetype": "text/x-python",
      "name": "python",
      "nbconvert_exporter": "python",
      "pygments_lexer": "ipython3",
      "version": "3.7.4"
    },
    "colab": {
      "name": "NYtaxi_fare_prediction.ipynb",
      "provenance": [],
      "collapsed_sections": [],
      "machine_shape": "hm"
    },
    "accelerator": "GPU"
  },
  "cells": [
    {
      "cell_type": "code",
      "metadata": {
        "id": "-tcG2bTFkmgl",
        "colab_type": "code",
        "outputId": "3ac5dca7-b9c7-4398-f831-dc69e9011596",
        "colab": {
          "base_uri": "https://localhost:8080/",
          "height": 122
        }
      },
      "source": [
        "from google.colab import drive\n",
        "drive.mount('/content/drive')"
      ],
      "execution_count": 1,
      "outputs": [
        {
          "output_type": "stream",
          "text": [
            "Go to this URL in a browser: https://accounts.google.com/o/oauth2/auth?client_id=947318989803-6bn6qk8qdgf4n4g3pfee6491hc0brc4i.apps.googleusercontent.com&redirect_uri=urn%3aietf%3awg%3aoauth%3a2.0%3aoob&response_type=code&scope=email%20https%3a%2f%2fwww.googleapis.com%2fauth%2fdocs.test%20https%3a%2f%2fwww.googleapis.com%2fauth%2fdrive%20https%3a%2f%2fwww.googleapis.com%2fauth%2fdrive.photos.readonly%20https%3a%2f%2fwww.googleapis.com%2fauth%2fpeopleapi.readonly\n",
            "\n",
            "Enter your authorization code:\n",
            "··········\n",
            "Mounted at /content/drive\n"
          ],
          "name": "stdout"
        }
      ]
    },
    {
      "cell_type": "code",
      "metadata": {
        "id": "sCUAKQcuEMKE",
        "colab_type": "code",
        "outputId": "c10747b5-c94c-4c95-fa09-a576354b8457",
        "colab": {
          "base_uri": "https://localhost:8080/",
          "height": 34
        }
      },
      "source": [
        "import numpy as np\n",
        "import pandas as pd\n",
        "import os\n",
        "import datetime as dt\n",
        "import matplotlib.pyplot as plt\n",
        "import seaborn as sbn\n",
        "\n",
        "print(os.listdir(\"/content/drive/My Drive/Colab Notebooks/kaggle_challenge_dataset\"))"
      ],
      "execution_count": 2,
      "outputs": [
        {
          "output_type": "stream",
          "text": [
            "['GCP-Coupons-Instructions.rtf', 'test.csv', 'sample_submission.csv', 'train.csv', 'test2.csv']\n"
          ],
          "name": "stdout"
        }
      ]
    },
    {
      "cell_type": "code",
      "metadata": {
        "id": "1LoEY8WeEMKJ",
        "colab_type": "code",
        "colab": {}
      },
      "source": [
        "#read train and test dataset \n",
        "TRAIN_PATH = \"/content/drive/My Drive/Colab Notebooks/kaggle_challenge_dataset/train.csv\"\n",
        "TEST_PATH = \"/content/drive/My Drive/Colab Notebooks/kaggle_challenge_dataset/test.csv\"\n",
        "SAMPLE_TEST_PATH = \"/content/drive/My Drive/Colab Notebooks/kaggle_challenge_dataset/test2.csv\""
      ],
      "execution_count": 0,
      "outputs": []
    },
    {
      "cell_type": "code",
      "metadata": {
        "id": "q7gCeODcEMKP",
        "colab_type": "code",
        "outputId": "0689d6d8-a058-464d-fc52-4ac78673e715",
        "colab": {
          "base_uri": "https://localhost:8080/",
          "height": 170
        }
      },
      "source": [
        "train_temp = pd.read_csv(TRAIN_PATH, nrows = 5000000)\n",
        "print(\"training dataset head:\")\n",
        "print(train_temp.head())"
      ],
      "execution_count": 5,
      "outputs": [
        {
          "output_type": "stream",
          "text": [
            "training dataset head:\n",
            "                             key  ...  passenger_count\n",
            "0    2009-06-15 17:26:21.0000001  ...                1\n",
            "1    2010-01-05 16:52:16.0000002  ...                1\n",
            "2   2011-08-18 00:35:00.00000049  ...                2\n",
            "3    2012-04-21 04:30:42.0000001  ...                1\n",
            "4  2010-03-09 07:51:00.000000135  ...                1\n",
            "\n",
            "[5 rows x 8 columns]\n"
          ],
          "name": "stdout"
        }
      ]
    },
    {
      "cell_type": "code",
      "metadata": {
        "id": "jwpFcGbYuhPx",
        "colab_type": "code",
        "outputId": "333bd4c0-c27c-4348-b805-2bb95bbc713c",
        "colab": {
          "base_uri": "https://localhost:8080/",
          "height": 238
        }
      },
      "source": [
        "train_temp.info(memory_usage='deep')"
      ],
      "execution_count": 5,
      "outputs": [
        {
          "output_type": "stream",
          "text": [
            "<class 'pandas.core.frame.DataFrame'>\n",
            "RangeIndex: 5000000 entries, 0 to 4999999\n",
            "Data columns (total 8 columns):\n",
            "key                  object\n",
            "fare_amount          float64\n",
            "pickup_datetime      object\n",
            "pickup_longitude     float64\n",
            "pickup_latitude      float64\n",
            "dropoff_longitude    float64\n",
            "dropoff_latitude     float64\n",
            "passenger_count      int64\n",
            "dtypes: float64(5), int64(1), object(2)\n",
            "memory usage: 1014.1 MB\n"
          ],
          "name": "stdout"
        }
      ]
    },
    {
      "cell_type": "code",
      "metadata": {
        "id": "e1N3-WfgvJa8",
        "colab_type": "code",
        "outputId": "7faaeabf-0ddb-4e5c-bb92-ed6f115878ff",
        "colab": {
          "base_uri": "https://localhost:8080/",
          "height": 68
        }
      },
      "source": [
        "for dtype in ['float','int','object']:\n",
        "    selected_dtype = train_temp.select_dtypes(include=[dtype])\n",
        "    mean_usage_b = selected_dtype.memory_usage(deep=True).mean()\n",
        "    mean_usage_mb = mean_usage_b/ 1024 ** 2\n",
        "    print(\"Average memory usage for {} columns: {:03.2f} MB\".format(dtype,mean_usage_mb))"
      ],
      "execution_count": 6,
      "outputs": [
        {
          "output_type": "stream",
          "text": [
            "Average memory usage for float columns: 31.79 MB\n",
            "Average memory usage for int columns: 19.07 MB\n",
            "Average memory usage for object columns: 261.75 MB\n"
          ],
          "name": "stdout"
        }
      ]
    },
    {
      "cell_type": "code",
      "metadata": {
        "id": "puiu3FZy1Jdi",
        "colab_type": "code",
        "outputId": "ad903bee-7018-4ebd-8a07-eafb842e6f13",
        "colab": {
          "base_uri": "https://localhost:8080/",
          "height": 297
        }
      },
      "source": [
        "train_temp.describe()"
      ],
      "execution_count": 7,
      "outputs": [
        {
          "output_type": "execute_result",
          "data": {
            "text/html": [
              "<div>\n",
              "<style scoped>\n",
              "    .dataframe tbody tr th:only-of-type {\n",
              "        vertical-align: middle;\n",
              "    }\n",
              "\n",
              "    .dataframe tbody tr th {\n",
              "        vertical-align: top;\n",
              "    }\n",
              "\n",
              "    .dataframe thead th {\n",
              "        text-align: right;\n",
              "    }\n",
              "</style>\n",
              "<table border=\"1\" class=\"dataframe\">\n",
              "  <thead>\n",
              "    <tr style=\"text-align: right;\">\n",
              "      <th></th>\n",
              "      <th>fare_amount</th>\n",
              "      <th>pickup_longitude</th>\n",
              "      <th>pickup_latitude</th>\n",
              "      <th>dropoff_longitude</th>\n",
              "      <th>dropoff_latitude</th>\n",
              "      <th>passenger_count</th>\n",
              "    </tr>\n",
              "  </thead>\n",
              "  <tbody>\n",
              "    <tr>\n",
              "      <th>count</th>\n",
              "      <td>5.000000e+06</td>\n",
              "      <td>5.000000e+06</td>\n",
              "      <td>5.000000e+06</td>\n",
              "      <td>4.999964e+06</td>\n",
              "      <td>4.999964e+06</td>\n",
              "      <td>5.000000e+06</td>\n",
              "    </tr>\n",
              "    <tr>\n",
              "      <th>mean</th>\n",
              "      <td>1.134080e+01</td>\n",
              "      <td>-7.250678e+01</td>\n",
              "      <td>3.991974e+01</td>\n",
              "      <td>-7.250652e+01</td>\n",
              "      <td>3.991725e+01</td>\n",
              "      <td>1.684695e+00</td>\n",
              "    </tr>\n",
              "    <tr>\n",
              "      <th>std</th>\n",
              "      <td>9.820175e+00</td>\n",
              "      <td>1.280970e+01</td>\n",
              "      <td>8.963509e+00</td>\n",
              "      <td>1.284777e+01</td>\n",
              "      <td>9.486767e+00</td>\n",
              "      <td>1.331854e+00</td>\n",
              "    </tr>\n",
              "    <tr>\n",
              "      <th>min</th>\n",
              "      <td>-1.000000e+02</td>\n",
              "      <td>-3.426609e+03</td>\n",
              "      <td>-3.488080e+03</td>\n",
              "      <td>-3.412653e+03</td>\n",
              "      <td>-3.488080e+03</td>\n",
              "      <td>0.000000e+00</td>\n",
              "    </tr>\n",
              "    <tr>\n",
              "      <th>25%</th>\n",
              "      <td>6.000000e+00</td>\n",
              "      <td>-7.399206e+01</td>\n",
              "      <td>4.073491e+01</td>\n",
              "      <td>-7.399139e+01</td>\n",
              "      <td>4.073404e+01</td>\n",
              "      <td>1.000000e+00</td>\n",
              "    </tr>\n",
              "    <tr>\n",
              "      <th>50%</th>\n",
              "      <td>8.500000e+00</td>\n",
              "      <td>-7.398181e+01</td>\n",
              "      <td>4.075263e+01</td>\n",
              "      <td>-7.398016e+01</td>\n",
              "      <td>4.075315e+01</td>\n",
              "      <td>1.000000e+00</td>\n",
              "    </tr>\n",
              "    <tr>\n",
              "      <th>75%</th>\n",
              "      <td>1.250000e+01</td>\n",
              "      <td>-7.396711e+01</td>\n",
              "      <td>4.076712e+01</td>\n",
              "      <td>-7.396367e+01</td>\n",
              "      <td>4.076811e+01</td>\n",
              "      <td>2.000000e+00</td>\n",
              "    </tr>\n",
              "    <tr>\n",
              "      <th>max</th>\n",
              "      <td>1.273310e+03</td>\n",
              "      <td>3.439426e+03</td>\n",
              "      <td>3.310364e+03</td>\n",
              "      <td>3.457622e+03</td>\n",
              "      <td>3.345917e+03</td>\n",
              "      <td>2.080000e+02</td>\n",
              "    </tr>\n",
              "  </tbody>\n",
              "</table>\n",
              "</div>"
            ],
            "text/plain": [
              "        fare_amount  pickup_longitude  ...  dropoff_latitude  passenger_count\n",
              "count  5.000000e+06      5.000000e+06  ...      4.999964e+06     5.000000e+06\n",
              "mean   1.134080e+01     -7.250678e+01  ...      3.991725e+01     1.684695e+00\n",
              "std    9.820175e+00      1.280970e+01  ...      9.486767e+00     1.331854e+00\n",
              "min   -1.000000e+02     -3.426609e+03  ...     -3.488080e+03     0.000000e+00\n",
              "25%    6.000000e+00     -7.399206e+01  ...      4.073404e+01     1.000000e+00\n",
              "50%    8.500000e+00     -7.398181e+01  ...      4.075315e+01     1.000000e+00\n",
              "75%    1.250000e+01     -7.396711e+01  ...      4.076811e+01     2.000000e+00\n",
              "max    1.273310e+03      3.439426e+03  ...      3.345917e+03     2.080000e+02\n",
              "\n",
              "[8 rows x 6 columns]"
            ]
          },
          "metadata": {
            "tags": []
          },
          "execution_count": 7
        }
      ]
    },
    {
      "cell_type": "code",
      "metadata": {
        "id": "2uSXqa_I1gFG",
        "colab_type": "code",
        "outputId": "66f3fe2e-ced6-4adf-e205-cfd5b8f9bbae",
        "colab": {
          "base_uri": "https://localhost:8080/",
          "height": 313
        }
      },
      "source": [
        "#histogram of fare_amount\n",
        "train_temp.fare_amount.hist(bins=40, figsize=(12,4))\n",
        "plt.xlabel('fare_amount')\n",
        "plt.title('Histogram of fare amount in USD')"
      ],
      "execution_count": 0,
      "outputs": [
        {
          "output_type": "execute_result",
          "data": {
            "text/plain": [
              "Text(0.5, 1.0, 'Histogram of fare amount in USD')"
            ]
          },
          "metadata": {
            "tags": []
          },
          "execution_count": 8
        },
        {
          "output_type": "display_data",
          "data": {
            "image/png": "[encoded data removed]",
            "text/plain": [
              "<Figure size 864x288 with 1 Axes>"
            ]
          },
          "metadata": {
            "tags": []
          }
        }
      ]
    },
    {
      "cell_type": "code",
      "metadata": {
        "id": "LJnsYF1WtKQa",
        "colab_type": "code",
        "outputId": "96dd460d-9aa7-4759-d58b-3dcd3ff20d59",
        "colab": {
          "base_uri": "https://localhost:8080/",
          "height": 170
        }
      },
      "source": [
        "test_temp = pd.read_csv(TEST_PATH)\n",
        "print(\"test dataset head:\")\n",
        "print(test_temp.head())"
      ],
      "execution_count": 6,
      "outputs": [
        {
          "output_type": "stream",
          "text": [
            "test dataset head:\n",
            "                           key  ... passenger_count\n",
            "0  2015-01-27 13:08:24.0000002  ...               1\n",
            "1  2015-01-27 13:08:24.0000003  ...               1\n",
            "2  2011-10-08 11:53:44.0000002  ...               1\n",
            "3  2012-12-01 21:12:12.0000002  ...               1\n",
            "4  2012-12-01 21:12:12.0000003  ...               1\n",
            "\n",
            "[5 rows x 7 columns]\n"
          ],
          "name": "stdout"
        }
      ]
    },
    {
      "cell_type": "code",
      "metadata": {
        "id": "f0xwHHjnEMKS",
        "colab_type": "code",
        "outputId": "4e26b9fb-8837-4e11-ccd6-29e8e22feb73",
        "colab": {
          "base_uri": "https://localhost:8080/",
          "height": 51
        }
      },
      "source": [
        "train_types = {'fare_amount': 'float32',\n",
        "              'pickup_datetime': 'str', \n",
        "              'pickup_longitude': 'float32',\n",
        "              'pickup_latitude': 'float32',\n",
        "              'dropoff_longitude': 'float32',\n",
        "              'dropoff_latitude': 'float32',\n",
        "              'passenger_count': 'uint8'}\n",
        "\n",
        "test_types =  {'pickup_datetime': 'str', \n",
        "              'pickup_longitude': 'float32',\n",
        "              'pickup_latitude': 'float32',\n",
        "              'dropoff_longitude': 'float32',\n",
        "              'dropoff_latitude': 'float32',\n",
        "              'passenger_count': 'uint8'}\n",
        "\n",
        "train_cols = list(train_types.keys())\n",
        "test_cols = list(test_types.keys())\n",
        "\n",
        "def clean_df(PATH, cols, datatypes, chunksize):\n",
        "    if PATH == TEST_PATH:\n",
        "        df_list = []\n",
        "        for chunk in pd.read_csv(PATH, usecols = cols, dtype=datatypes, chunksize=chunksize):\n",
        "            chunk['pickup_datetime'] = chunk['pickup_datetime'].str.slice(0, 16)\n",
        "            chunk['pickup_datetime'] = pd.to_datetime(chunk['pickup_datetime'], utc=True, \n",
        "                                                      format='%Y-%m-%d %H:%M')\n",
        "            \n",
        "            #add datetime features to the data \n",
        "            #pickup_datetime -> hour, month, year, isWeekday, day\n",
        "            add_datetime_features(chunk)\n",
        "            \n",
        "            #removing data with missing points -> (does not affect the number of sample points)\n",
        "            #chunk = chunk.dropna(how = 'any', axis = 'rows')\n",
        "            \n",
        "            #add distance travelled in km by the cab to dataframe\n",
        "            chunk['haversine_distnace'] = add_distance(chunk.pickup_latitude, chunk.pickup_longitude,\n",
        "                        chunk.dropoff_latitude, chunk.dropoff_longitude)\n",
        "\n",
        "            #add direction of the distance\n",
        "            chunk['direction'] = calculate_direction(chunk.pickup_latitude, chunk.pickup_longitude,\n",
        "                        chunk.dropoff_latitude, chunk.dropoff_longitude)\n",
        "            \n",
        "            #add a distance_from_JFK_airport to the features as the fare would be more for places closer to airport\n",
        "            pickup_JFK, dropoff_JFK = add_dist_from_jfk(chunk)\n",
        "            chunk['JFK_distance'] = pd.concat([pickup_JFK, dropoff_JFK], axis=1).min(axis=1)\n",
        "\n",
        "            df_list.append(chunk)\n",
        "            #print(len(df_list))\n",
        "        return pd.concat(df_list)\n",
        "    \n",
        "    elif(PATH == TRAIN_PATH):\n",
        "        #X_df_list = []\n",
        "        #y_df_list = []\n",
        "        df_list = []\n",
        "        for chunk in pd.read_csv(PATH, usecols = cols, dtype=datatypes, chunksize=chunksize):  \n",
        "            #converting pickup datetime to proper format\n",
        "            chunk['pickup_datetime'] = chunk['pickup_datetime'].str.slice(0, 16)\n",
        "            chunk['pickup_datetime'] = pd.to_datetime(chunk['pickup_datetime'], utc=True, \n",
        "                                                      format='%Y-%m-%d %H:%M')\n",
        "            #outlier removal\n",
        "            #remove rows with passenger count 0 and more than 6\n",
        "            chunk = chunk[(chunk['passenger_count'] > 0) & (chunk['passenger_count'] < 7) ]\n",
        "            \n",
        "            #remove rows with fare amount less than $1 and greater than $400 \n",
        "            chunk = chunk[(chunk['fare_amount'] > 1.0) & (chunk['fare_amount'] < 400.0)]     \n",
        "\n",
        "            # Remove data with invalid coordinates\n",
        "            # NY Coordinates are around 40 N and 74 W\n",
        "            # 1 degree is equal to around 69 miles\n",
        "            # So this range should be fine for our purpose\n",
        "            chunk = chunk[(chunk['pickup_latitude'] < 42.0) & (chunk['pickup_latitude'] > 39.0)]\n",
        "            chunk = chunk[(chunk['dropoff_latitude'] < 42.0) & (chunk['dropoff_latitude'] > 39.0)]\n",
        "            chunk = chunk[(chunk['pickup_longitude'] < -70.0) & (chunk['pickup_longitude'] > -75.0)]\n",
        "            chunk = chunk[(chunk['dropoff_longitude'] < -70.0) & (chunk['dropoff_longitude'] > -75.0)]       \n",
        "            \n",
        "            #add datetime features to the data \n",
        "            #pickup_datetime -> hour, month, year, isWeekday, day\n",
        "            add_datetime_features(chunk)\n",
        "            \n",
        "            #removing data with missing points -> (does not affect the number of sample points)\n",
        "            #chunk = chunk.dropna(how = 'any', axis = 'rows')\n",
        "            \n",
        "            #add distance travelled by the cab to dataframe\n",
        "            chunk['haversine_distnace'] = add_distance(chunk.pickup_latitude, chunk.pickup_longitude,\n",
        "                        chunk.dropoff_latitude, chunk.dropoff_longitude)\n",
        "\n",
        "            #add direction of the distance\n",
        "            chunk['direction'] = calculate_direction(chunk.pickup_latitude, chunk.pickup_longitude,\n",
        "                        chunk.dropoff_latitude, chunk.dropoff_longitude)            \n",
        "            \n",
        "            chunk = chunk[(chunk['haversine_distnace'] > 0.1) & (chunk['haversine_distnace'] < 400)] \n",
        "            \n",
        "            #add a distance_from_JFK_airport to the features as the fare would be more for places closer to airport\n",
        "            pickup_JFK, dropoff_JFK = add_dist_from_jfk(chunk)\n",
        "            chunk['JFK_distance'] = pd.concat([pickup_JFK, dropoff_JFK], axis=1).min(axis=1)\n",
        "\n",
        "            #appending chunks to the dataframe list\n",
        "            df_list.append(chunk)\n",
        "            #y_df_list.append(chunk['fare_amount'])\n",
        "            #chunk.drop(labels = 'fare_amount', axis=1, inplace=True)\n",
        "            #X_df_list.append(chunk)\n",
        "            \n",
        "        df = pd.concat(df_list)\n",
        "        #X_df = pd.concat(X_df_list)\n",
        "        #y_df = pd.concat(y_df_list)\n",
        "        return  df\n",
        "\n",
        "def add_datetime_features(data_chunk):\n",
        "    data_chunk['hour'] = data_chunk.pickup_datetime.dt.hour\n",
        "    data_chunk['day'] = data_chunk.pickup_datetime.dt.day\n",
        "    data_chunk['month'] = data_chunk.pickup_datetime.dt.month\n",
        "    data_chunk['weekday'] = data_chunk.pickup_datetime.dt.weekday\n",
        "    data_chunk['year'] = data_chunk.pickup_datetime.dt.year\n",
        "    \n",
        "    return data_chunk\n",
        "    \n",
        "def add_distance(lat1, lon1, lat2, lon2):\n",
        "    p = np.pi/180.0\n",
        "    a = 0.5 - np.cos((lat2 - lat1) * p)/2 + np.cos(lat1 * p) * np.cos(lat2 * p) * (1 - np.cos((lon2 - lon1) * p)) / 2\n",
        "    return 0.6213712 * 12742 * np.arcsin(np.sqrt(a)) # 2*R*asin...    \n",
        "\n",
        "def calculate_direction(pickup_lat, pickup_lon, dropoff_lat, dropoff_lon):\n",
        "    \"\"\"\n",
        "    Return distance along great radius between pickup and dropoff coordinates.\n",
        "    \"\"\"\n",
        "    #Define earth radius (km)\n",
        "    R_earth = 6371\n",
        "    #Convert degrees to radians\n",
        "    pickup_lat, pickup_lon, dropoff_lat, dropoff_lon = map(np.radians,\n",
        "                                                             [pickup_lat, pickup_lon, \n",
        "                                                              dropoff_lat, dropoff_lon])\n",
        "    #Compute distances along lat, lon dimensions\n",
        "    dlat = dropoff_lat - pickup_lat\n",
        "    dlon = pickup_lon - dropoff_lon\n",
        "    \n",
        "    #Compute bearing distance\n",
        "    a = np.arctan2(np.sin(dlon * np.cos(dropoff_lat)),np.cos(pickup_lat) * np.sin(dropoff_lat) - np.sin(pickup_lat) * np.cos(dropoff_lat) * np.cos(dlon))\n",
        "    return a\n",
        "\n",
        "def add_dist_from_jfk(data_chunk):\n",
        "    JFK_coord = (40.6413, -73.7781)\n",
        "    pickup_JFK = add_distance(data_chunk['pickup_latitude'], data_chunk['pickup_longitude'], JFK_coord[0], JFK_coord[1]) \n",
        "    dropoff_JFK = add_distance(JFK_coord[0], JFK_coord[1], data_chunk['dropoff_latitude'], data_chunk['dropoff_longitude'])\n",
        "    #data_chunk['JFK_distance'] = pd.concat([pickup_JFK, dropoff_JFK], axis=1).min(axis=1)\n",
        "\n",
        "    return pickup_JFK, dropoff_JFK\n",
        "\n",
        "#insample dataset\n",
        "train_target = clean_df(TRAIN_PATH, train_cols, train_types, chunksize = 500000)\n",
        "print(train_target.shape)\n",
        "\n",
        "#out of samples dataset\n",
        "test_dataset = clean_df(TEST_PATH, test_cols, test_types, chunksize = 2000)\n",
        "print(test_dataset.shape)"
      ],
      "execution_count": 7,
      "outputs": [
        {
          "output_type": "stream",
          "text": [
            "(53086181, 15)\n",
            "(9914, 14)\n"
          ],
          "name": "stdout"
        }
      ]
    },
    {
      "cell_type": "code",
      "metadata": {
        "id": "529jOhL1EMKV",
        "colab_type": "code",
        "outputId": "7df01948-8e93-4c2f-b9da-63edd47ac9e4",
        "colab": {
          "base_uri": "https://localhost:8080/",
          "height": 317
        }
      },
      "source": [
        "train_target.describe()"
      ],
      "execution_count": 8,
      "outputs": [
        {
          "output_type": "execute_result",
          "data": {
            "text/html": [
              "<div>\n",
              "<style scoped>\n",
              "    .dataframe tbody tr th:only-of-type {\n",
              "        vertical-align: middle;\n",
              "    }\n",
              "\n",
              "    .dataframe tbody tr th {\n",
              "        vertical-align: top;\n",
              "    }\n",
              "\n",
              "    .dataframe thead th {\n",
              "        text-align: right;\n",
              "    }\n",
              "</style>\n",
              "<table border=\"1\" class=\"dataframe\">\n",
              "  <thead>\n",
              "    <tr style=\"text-align: right;\">\n",
              "      <th></th>\n",
              "      <th>fare_amount</th>\n",
              "      <th>pickup_longitude</th>\n",
              "      <th>pickup_latitude</th>\n",
              "      <th>dropoff_longitude</th>\n",
              "      <th>dropoff_latitude</th>\n",
              "      <th>passenger_count</th>\n",
              "      <th>hour</th>\n",
              "      <th>day</th>\n",
              "      <th>month</th>\n",
              "      <th>weekday</th>\n",
              "      <th>year</th>\n",
              "      <th>haversine_distnace</th>\n",
              "      <th>direction</th>\n",
              "      <th>JFK_distance</th>\n",
              "    </tr>\n",
              "  </thead>\n",
              "  <tbody>\n",
              "    <tr>\n",
              "      <th>count</th>\n",
              "      <td>5.308618e+07</td>\n",
              "      <td>5.308618e+07</td>\n",
              "      <td>5.308618e+07</td>\n",
              "      <td>5.308618e+07</td>\n",
              "      <td>5.308618e+07</td>\n",
              "      <td>5.308618e+07</td>\n",
              "      <td>5.308618e+07</td>\n",
              "      <td>5.308618e+07</td>\n",
              "      <td>5.308618e+07</td>\n",
              "      <td>5.308618e+07</td>\n",
              "      <td>5.308618e+07</td>\n",
              "      <td>5.308618e+07</td>\n",
              "      <td>5.308618e+07</td>\n",
              "      <td>5.308618e+07</td>\n",
              "    </tr>\n",
              "    <tr>\n",
              "      <th>mean</th>\n",
              "      <td>8.139472e+00</td>\n",
              "      <td>-4.045278e+01</td>\n",
              "      <td>2.022639e+01</td>\n",
              "      <td>-4.045278e+01</td>\n",
              "      <td>2.022639e+01</td>\n",
              "      <td>1.691975e+00</td>\n",
              "      <td>1.351765e+01</td>\n",
              "      <td>1.571170e+01</td>\n",
              "      <td>6.268899e+00</td>\n",
              "      <td>3.040971e+00</td>\n",
              "      <td>2.011745e+03</td>\n",
              "      <td>2.116440e+00</td>\n",
              "      <td>3.186226e-01</td>\n",
              "      <td>1.247494e+01</td>\n",
              "    </tr>\n",
              "    <tr>\n",
              "      <th>std</th>\n",
              "      <td>9.522867e+00</td>\n",
              "      <td>2.544100e+01</td>\n",
              "      <td>1.272050e+01</td>\n",
              "      <td>2.544100e+01</td>\n",
              "      <td>1.272050e+01</td>\n",
              "      <td>1.307224e+00</td>\n",
              "      <td>6.515233e+00</td>\n",
              "      <td>8.685037e+00</td>\n",
              "      <td>3.436881e+00</td>\n",
              "      <td>1.949043e+00</td>\n",
              "      <td>1.866116e+00</td>\n",
              "      <td>2.501405e+00</td>\n",
              "      <td>1.669658e+00</td>\n",
              "      <td>2.160954e+00</td>\n",
              "    </tr>\n",
              "    <tr>\n",
              "      <th>min</th>\n",
              "      <td>1.110000e+00</td>\n",
              "      <td>-7.499804e+01</td>\n",
              "      <td>3.900730e+01</td>\n",
              "      <td>-7.499828e+01</td>\n",
              "      <td>3.901156e+01</td>\n",
              "      <td>1.000000e+00</td>\n",
              "      <td>0.000000e+00</td>\n",
              "      <td>1.000000e+00</td>\n",
              "      <td>1.000000e+00</td>\n",
              "      <td>0.000000e+00</td>\n",
              "      <td>2.009000e+03</td>\n",
              "      <td>1.000002e-01</td>\n",
              "      <td>-3.141579e+00</td>\n",
              "      <td>2.463167e-03</td>\n",
              "    </tr>\n",
              "    <tr>\n",
              "      <th>25%</th>\n",
              "      <td>6.000000e+00</td>\n",
              "      <td>-7.399229e+01</td>\n",
              "      <td>4.073662e+01</td>\n",
              "      <td>-7.399159e+01</td>\n",
              "      <td>4.073563e+01</td>\n",
              "      <td>1.000000e+00</td>\n",
              "      <td>9.000000e+00</td>\n",
              "      <td>8.000000e+00</td>\n",
              "      <td>3.000000e+00</td>\n",
              "      <td>1.000000e+00</td>\n",
              "      <td>2.010000e+03</td>\n",
              "      <td>8.051382e-01</td>\n",
              "      <td>-8.954259e-01</td>\n",
              "      <td>1.255060e+01</td>\n",
              "    </tr>\n",
              "    <tr>\n",
              "      <th>50%</th>\n",
              "      <td>8.500000e+00</td>\n",
              "      <td>-7.398213e+01</td>\n",
              "      <td>4.075340e+01</td>\n",
              "      <td>-7.398064e+01</td>\n",
              "      <td>4.075389e+01</td>\n",
              "      <td>1.000000e+00</td>\n",
              "      <td>1.400000e+01</td>\n",
              "      <td>1.600000e+01</td>\n",
              "      <td>6.000000e+00</td>\n",
              "      <td>3.000000e+00</td>\n",
              "      <td>2.012000e+03</td>\n",
              "      <td>1.363405e+00</td>\n",
              "      <td>-1.269417e-01</td>\n",
              "      <td>1.289996e+01</td>\n",
              "    </tr>\n",
              "    <tr>\n",
              "      <th>75%</th>\n",
              "      <td>1.250000e+01</td>\n",
              "      <td>-7.396851e+01</td>\n",
              "      <td>4.076756e+01</td>\n",
              "      <td>-7.396560e+01</td>\n",
              "      <td>4.076841e+01</td>\n",
              "      <td>2.000000e+00</td>\n",
              "      <td>1.900000e+01</td>\n",
              "      <td>2.300000e+01</td>\n",
              "      <td>9.000000e+00</td>\n",
              "      <td>5.000000e+00</td>\n",
              "      <td>2.013000e+03</td>\n",
              "      <td>2.464353e+00</td>\n",
              "      <td>2.260262e+00</td>\n",
              "      <td>1.325358e+01</td>\n",
              "    </tr>\n",
              "    <tr>\n",
              "      <th>max</th>\n",
              "      <td>3.993300e+02</td>\n",
              "      <td>-7.000039e+01</td>\n",
              "      <td>4.199717e+01</td>\n",
              "      <td>-7.000227e+01</td>\n",
              "      <td>4.199811e+01</td>\n",
              "      <td>6.000000e+00</td>\n",
              "      <td>2.300000e+01</td>\n",
              "      <td>3.100000e+01</td>\n",
              "      <td>1.200000e+01</td>\n",
              "      <td>6.000000e+00</td>\n",
              "      <td>2.015000e+03</td>\n",
              "      <td>2.123138e+02</td>\n",
              "      <td>3.141593e+00</td>\n",
              "      <td>2.044714e+02</td>\n",
              "    </tr>\n",
              "  </tbody>\n",
              "</table>\n",
              "</div>"
            ],
            "text/plain": [
              "        fare_amount  pickup_longitude  ...     direction  JFK_distance\n",
              "count  5.308618e+07      5.308618e+07  ...  5.308618e+07  5.308618e+07\n",
              "mean   8.139472e+00     -4.045278e+01  ...  3.186226e-01  1.247494e+01\n",
              "std    9.522867e+00      2.544100e+01  ...  1.669658e+00  2.160954e+00\n",
              "min    1.110000e+00     -7.499804e+01  ... -3.141579e+00  2.463167e-03\n",
              "25%    6.000000e+00     -7.399229e+01  ... -8.954259e-01  1.255060e+01\n",
              "50%    8.500000e+00     -7.398213e+01  ... -1.269417e-01  1.289996e+01\n",
              "75%    1.250000e+01     -7.396851e+01  ...  2.260262e+00  1.325358e+01\n",
              "max    3.993300e+02     -7.000039e+01  ...  3.141593e+00  2.044714e+02\n",
              "\n",
              "[8 rows x 14 columns]"
            ]
          },
          "metadata": {
            "tags": []
          },
          "execution_count": 8
        }
      ]
    },
    {
      "cell_type": "code",
      "metadata": {
        "id": "GoJfdVz1eR4k",
        "colab_type": "code",
        "outputId": "e367970c-cd3c-4531-c838-d664d88db311",
        "colab": {
          "base_uri": "https://localhost:8080/",
          "height": 297
        }
      },
      "source": [
        "test_dataset.describe()"
      ],
      "execution_count": 0,
      "outputs": [
        {
          "output_type": "execute_result",
          "data": {
            "text/html": [
              "<div>\n",
              "<style scoped>\n",
              "    .dataframe tbody tr th:only-of-type {\n",
              "        vertical-align: middle;\n",
              "    }\n",
              "\n",
              "    .dataframe tbody tr th {\n",
              "        vertical-align: top;\n",
              "    }\n",
              "\n",
              "    .dataframe thead th {\n",
              "        text-align: right;\n",
              "    }\n",
              "</style>\n",
              "<table border=\"1\" class=\"dataframe\">\n",
              "  <thead>\n",
              "    <tr style=\"text-align: right;\">\n",
              "      <th></th>\n",
              "      <th>pickup_longitude</th>\n",
              "      <th>pickup_latitude</th>\n",
              "      <th>dropoff_longitude</th>\n",
              "      <th>dropoff_latitude</th>\n",
              "      <th>passenger_count</th>\n",
              "      <th>hour</th>\n",
              "      <th>day</th>\n",
              "      <th>month</th>\n",
              "      <th>weekday</th>\n",
              "      <th>year</th>\n",
              "      <th>haversine_distnace</th>\n",
              "      <th>direction</th>\n",
              "      <th>JFK_distance</th>\n",
              "    </tr>\n",
              "  </thead>\n",
              "  <tbody>\n",
              "    <tr>\n",
              "      <th>count</th>\n",
              "      <td>9914.000000</td>\n",
              "      <td>9914.000000</td>\n",
              "      <td>9914.000000</td>\n",
              "      <td>9914.000000</td>\n",
              "      <td>9914.000000</td>\n",
              "      <td>9914.000000</td>\n",
              "      <td>9914.000000</td>\n",
              "      <td>9914.000000</td>\n",
              "      <td>9914.000000</td>\n",
              "      <td>9914.000000</td>\n",
              "      <td>9914.000000</td>\n",
              "      <td>9914.000000</td>\n",
              "      <td>9914.000000</td>\n",
              "    </tr>\n",
              "    <tr>\n",
              "      <th>mean</th>\n",
              "      <td>-73.976181</td>\n",
              "      <td>40.750954</td>\n",
              "      <td>-73.974945</td>\n",
              "      <td>40.751553</td>\n",
              "      <td>1.671273</td>\n",
              "      <td>13.467420</td>\n",
              "      <td>16.194170</td>\n",
              "      <td>6.857979</td>\n",
              "      <td>2.852834</td>\n",
              "      <td>2011.815816</td>\n",
              "      <td>1.931526</td>\n",
              "      <td>0.262677</td>\n",
              "      <td>12.456539</td>\n",
              "    </tr>\n",
              "    <tr>\n",
              "      <th>std</th>\n",
              "      <td>0.042799</td>\n",
              "      <td>0.033542</td>\n",
              "      <td>0.039093</td>\n",
              "      <td>0.035436</td>\n",
              "      <td>1.278747</td>\n",
              "      <td>6.868584</td>\n",
              "      <td>8.838482</td>\n",
              "      <td>3.353272</td>\n",
              "      <td>1.994451</td>\n",
              "      <td>1.803347</td>\n",
              "      <td>2.603093</td>\n",
              "      <td>1.825305</td>\n",
              "      <td>2.506123</td>\n",
              "    </tr>\n",
              "    <tr>\n",
              "      <th>min</th>\n",
              "      <td>-74.252190</td>\n",
              "      <td>40.573143</td>\n",
              "      <td>-74.263245</td>\n",
              "      <td>40.568974</td>\n",
              "      <td>1.000000</td>\n",
              "      <td>0.000000</td>\n",
              "      <td>1.000000</td>\n",
              "      <td>1.000000</td>\n",
              "      <td>0.000000</td>\n",
              "      <td>2009.000000</td>\n",
              "      <td>0.000000</td>\n",
              "      <td>-3.140778</td>\n",
              "      <td>0.000000</td>\n",
              "    </tr>\n",
              "    <tr>\n",
              "      <th>25%</th>\n",
              "      <td>-73.992500</td>\n",
              "      <td>40.736125</td>\n",
              "      <td>-73.991249</td>\n",
              "      <td>40.735253</td>\n",
              "      <td>1.000000</td>\n",
              "      <td>8.000000</td>\n",
              "      <td>9.000000</td>\n",
              "      <td>4.000000</td>\n",
              "      <td>1.000000</td>\n",
              "      <td>2010.000000</td>\n",
              "      <td>0.000000</td>\n",
              "      <td>-0.919139</td>\n",
              "      <td>12.529862</td>\n",
              "    </tr>\n",
              "    <tr>\n",
              "      <th>50%</th>\n",
              "      <td>-73.982327</td>\n",
              "      <td>40.753052</td>\n",
              "      <td>-73.980015</td>\n",
              "      <td>40.754065</td>\n",
              "      <td>1.000000</td>\n",
              "      <td>15.000000</td>\n",
              "      <td>16.000000</td>\n",
              "      <td>7.000000</td>\n",
              "      <td>3.000000</td>\n",
              "      <td>2012.000000</td>\n",
              "      <td>1.366828</td>\n",
              "      <td>-0.156816</td>\n",
              "      <td>12.903472</td>\n",
              "    </tr>\n",
              "    <tr>\n",
              "      <th>75%</th>\n",
              "      <td>-73.968012</td>\n",
              "      <td>40.767113</td>\n",
              "      <td>-73.964062</td>\n",
              "      <td>40.768757</td>\n",
              "      <td>2.000000</td>\n",
              "      <td>19.000000</td>\n",
              "      <td>25.000000</td>\n",
              "      <td>10.000000</td>\n",
              "      <td>5.000000</td>\n",
              "      <td>2014.000000</td>\n",
              "      <td>2.536426</td>\n",
              "      <td>2.202680</td>\n",
              "      <td>13.262036</td>\n",
              "    </tr>\n",
              "    <tr>\n",
              "      <th>max</th>\n",
              "      <td>-72.986534</td>\n",
              "      <td>41.709557</td>\n",
              "      <td>-72.990967</td>\n",
              "      <td>41.696682</td>\n",
              "      <td>6.000000</td>\n",
              "      <td>23.000000</td>\n",
              "      <td>31.000000</td>\n",
              "      <td>12.000000</td>\n",
              "      <td>6.000000</td>\n",
              "      <td>2015.000000</td>\n",
              "      <td>62.140335</td>\n",
              "      <td>3.140382</td>\n",
              "      <td>83.622993</td>\n",
              "    </tr>\n",
              "  </tbody>\n",
              "</table>\n",
              "</div>"
            ],
            "text/plain": [
              "       pickup_longitude  pickup_latitude  ...    direction  JFK_distance\n",
              "count       9914.000000      9914.000000  ...  9914.000000   9914.000000\n",
              "mean         -73.976181        40.750954  ...     0.262677     12.456539\n",
              "std            0.042799         0.033542  ...     1.825305      2.506123\n",
              "min          -74.252190        40.573143  ...    -3.140778      0.000000\n",
              "25%          -73.992500        40.736125  ...    -0.919139     12.529862\n",
              "50%          -73.982327        40.753052  ...    -0.156816     12.903472\n",
              "75%          -73.968012        40.767113  ...     2.202680     13.262036\n",
              "max          -72.986534        41.709557  ...     3.140382     83.622993\n",
              "\n",
              "[8 rows x 13 columns]"
            ]
          },
          "metadata": {
            "tags": []
          },
          "execution_count": 12
        }
      ]
    },
    {
      "cell_type": "code",
      "metadata": {
        "id": "Er0k0I4nEMKa",
        "colab_type": "code",
        "outputId": "8892b5d9-986a-4d64-9616-820e0a157986",
        "colab": {
          "base_uri": "https://localhost:8080/",
          "height": 312
        }
      },
      "source": [
        "#histogram of haversine distance \n",
        "train_target[train_target.haversine_distnace<20].haversine_distnace.hist(bins=40, figsize=(12,4))\n",
        "plt.xlabel('distance miles')\n",
        "plt.title('Histogram ride distances in miles')"
      ],
      "execution_count": 0,
      "outputs": [
        {
          "output_type": "execute_result",
          "data": {
            "text/plain": [
              "Text(0.5, 1.0, 'Histogram ride distances in miles')"
            ]
          },
          "metadata": {
            "tags": []
          },
          "execution_count": 13
        },
        {
          "output_type": "display_data",
          "data": {
            "image/png": "[encoded data removed]",
            "text/plain": [
              "<Figure size 864x288 with 1 Axes>"
            ]
          },
          "metadata": {
            "tags": []
          }
        }
      ]
    },
    {
      "cell_type": "code",
      "metadata": {
        "id": "HnFwdPMup41r",
        "colab_type": "code",
        "outputId": "10c7743c-8451-4582-db2f-a0704e436a8a",
        "colab": {
          "base_uri": "https://localhost:8080/",
          "height": 313
        }
      },
      "source": [
        "#histogram of fare_amount\n",
        "train_target[train_target.fare_amount < 100].fare_amount.hist(bins=40, figsize=(8,4))\n",
        "plt.xlabel('fare_amount')\n",
        "plt.title('Histogram of fare amount in USD')"
      ],
      "execution_count": 12,
      "outputs": [
        {
          "output_type": "execute_result",
          "data": {
            "text/plain": [
              "Text(0.5, 1.0, 'Histogram of fare amount in USD')"
            ]
          },
          "metadata": {
            "tags": []
          },
          "execution_count": 12
        },
        {
          "output_type": "display_data",
          "data": {
            "image/png": "[encoded data removed]",
            "text/plain": [
              "<Figure size 576x288 with 1 Axes>"
            ]
          },
          "metadata": {
            "tags": []
          }
        }
      ]
    },
    {
      "cell_type": "code",
      "metadata": {
        "id": "-mzYb43fEMKe",
        "colab_type": "code",
        "outputId": "5a37a3d9-475d-435e-860c-f7e16784bfc7",
        "colab": {
          "base_uri": "https://localhost:8080/",
          "height": 678
        }
      },
      "source": [
        "corrs = train_target.corr()\n",
        "plt.figure(figsize = (14, 10))\n",
        "sbn.heatmap(corrs, annot = True, vmin = -1, vmax = 1, fmt = '.3f', cmap=plt.cm.PiYG_r);\n"
      ],
      "execution_count": 0,
      "outputs": [
        {
          "output_type": "display_data",
          "data": {
            "image/png": "[encoded data removed]",
            "text/plain": [
              "<Figure size 1008x720 with 2 Axes>"
            ]
          },
          "metadata": {
            "tags": []
          }
        }
      ]
    },
    {
      "cell_type": "code",
      "metadata": {
        "id": "l8OX84TQEMKg",
        "colab_type": "code",
        "outputId": "dcb9173b-fbff-4a68-e01e-ac601d7815ca",
        "colab": {
          "base_uri": "https://localhost:8080/",
          "height": 514
        }
      },
      "source": [
        "plt.figure(figsize = (8, 8))\n",
        "plt.scatter(train_target.haversine_distnace, train_target.fare_amount, alpha=0.2)\n",
        "plt.xlabel('distance in miles')\n",
        "plt.ylabel('fare in USD')"
      ],
      "execution_count": 0,
      "outputs": [
        {
          "output_type": "execute_result",
          "data": {
            "text/plain": [
              "Text(0, 0.5, 'fare in USD')"
            ]
          },
          "metadata": {
            "tags": []
          },
          "execution_count": 12
        },
        {
          "output_type": "display_data",
          "data": {
            "image/png": "[encoded data removed]",
            "text/plain": [
              "<Figure size 576x576 with 1 Axes>"
            ]
          },
          "metadata": {
            "tags": []
          }
        }
      ]
    },
    {
      "cell_type": "code",
      "metadata": {
        "id": "0Pc1zcuQtHS9",
        "colab_type": "code",
        "outputId": "367924b4-9b26-4a48-a8a0-2b4bd500ed5a",
        "colab": {
          "base_uri": "https://localhost:8080/",
          "height": 514
        }
      },
      "source": [
        "plt.figure(figsize = (8, 8))\n",
        "plt.scatter(train_target.year, train_target.fare_amount, alpha=0.2)\n",
        "plt.xlabel('year')\n",
        "plt.ylabel('fare in USD')"
      ],
      "execution_count": 0,
      "outputs": [
        {
          "output_type": "execute_result",
          "data": {
            "text/plain": [
              "Text(0, 0.5, 'fare in USD')"
            ]
          },
          "metadata": {
            "tags": []
          },
          "execution_count": 14
        },
        {
          "output_type": "display_data",
          "data": {
            "image/png": "[encoded data removed]",
            "text/plain": [
              "<Figure size 576x576 with 1 Axes>"
            ]
          },
          "metadata": {
            "tags": []
          }
        }
      ]
    },
    {
      "cell_type": "code",
      "metadata": {
        "id": "EsJtQQX1InTV",
        "colab_type": "code",
        "outputId": "ae4c0f69-9cf8-4794-d536-57167f522c78",
        "colab": {
          "base_uri": "https://localhost:8080/",
          "height": 255
        }
      },
      "source": [
        "#drop location features as the distance has already been calculated and added to the dataset\n",
        "features_to_drop = ['pickup_longitude',\t'pickup_latitude', 'dropoff_longitude',\t'dropoff_latitude', 'day', 'weekday', 'pickup_datetime']\n",
        "train_target.drop(labels = features_to_drop, axis=1, inplace=True)\n",
        "print(train_target.shape)\n",
        "\n",
        "#memory before changing datatypes\n",
        "train_target.info(memory_usage='deep')"
      ],
      "execution_count": 13,
      "outputs": [
        {
          "output_type": "stream",
          "text": [
            "(53086181, 8)\n",
            "<class 'pandas.core.frame.DataFrame'>\n",
            "Int64Index: 53086181 entries, 0 to 55423855\n",
            "Data columns (total 8 columns):\n",
            "fare_amount           float32\n",
            "passenger_count       uint8\n",
            "hour                  int64\n",
            "month                 int64\n",
            "year                  int64\n",
            "haversine_distnace    float64\n",
            "direction             float32\n",
            "JFK_distance          float64\n",
            "dtypes: float32(2), float64(2), int64(3), uint8(1)\n",
            "memory usage: 2.8 GB\n"
          ],
          "name": "stdout"
        }
      ]
    },
    {
      "cell_type": "code",
      "metadata": {
        "id": "VvZboBdjw_Ze",
        "colab_type": "code",
        "outputId": "0598ba10-2bbb-4eef-9b2f-9e1002c56fa4",
        "colab": {
          "base_uri": "https://localhost:8080/",
          "height": 238
        }
      },
      "source": [
        "#changing datatypes\n",
        "train_target.month = train_target.month.astype(dtype = 'uint8')\n",
        "train_target.year = train_target.year.astype(dtype = 'uint16')\n",
        "train_target.hour = train_target.hour.astype(dtype = 'uint8')\n",
        "\n",
        "\n",
        "#memory before changing datatypes\n",
        "train_target.info(memory_usage='deep')"
      ],
      "execution_count": 14,
      "outputs": [
        {
          "output_type": "stream",
          "text": [
            "<class 'pandas.core.frame.DataFrame'>\n",
            "Int64Index: 53086181 entries, 0 to 55423855\n",
            "Data columns (total 8 columns):\n",
            "fare_amount           float32\n",
            "passenger_count       uint8\n",
            "hour                  uint8\n",
            "month                 uint8\n",
            "year                  uint16\n",
            "haversine_distnace    float64\n",
            "direction             float32\n",
            "JFK_distance          float64\n",
            "dtypes: float32(2), float64(2), uint16(1), uint8(3)\n",
            "memory usage: 1.8 GB\n"
          ],
          "name": "stdout"
        }
      ]
    },
    {
      "cell_type": "code",
      "metadata": {
        "id": "t3q-nKXW04eV",
        "colab_type": "code",
        "colab": {
          "base_uri": "https://localhost:8080/",
          "height": 297
        },
        "outputId": "6be91695-d261-49cd-b7b7-f7930dab29c1"
      },
      "source": [
        "train_target.describe()"
      ],
      "execution_count": 15,
      "outputs": [
        {
          "output_type": "execute_result",
          "data": {
            "text/html": [
              "<div>\n",
              "<style scoped>\n",
              "    .dataframe tbody tr th:only-of-type {\n",
              "        vertical-align: middle;\n",
              "    }\n",
              "\n",
              "    .dataframe tbody tr th {\n",
              "        vertical-align: top;\n",
              "    }\n",
              "\n",
              "    .dataframe thead th {\n",
              "        text-align: right;\n",
              "    }\n",
              "</style>\n",
              "<table border=\"1\" class=\"dataframe\">\n",
              "  <thead>\n",
              "    <tr style=\"text-align: right;\">\n",
              "      <th></th>\n",
              "      <th>fare_amount</th>\n",
              "      <th>passenger_count</th>\n",
              "      <th>hour</th>\n",
              "      <th>month</th>\n",
              "      <th>year</th>\n",
              "      <th>haversine_distnace</th>\n",
              "      <th>direction</th>\n",
              "      <th>JFK_distance</th>\n",
              "    </tr>\n",
              "  </thead>\n",
              "  <tbody>\n",
              "    <tr>\n",
              "      <th>count</th>\n",
              "      <td>5.308618e+07</td>\n",
              "      <td>5.308618e+07</td>\n",
              "      <td>5.308618e+07</td>\n",
              "      <td>5.308618e+07</td>\n",
              "      <td>5.308618e+07</td>\n",
              "      <td>5.308618e+07</td>\n",
              "      <td>5.308618e+07</td>\n",
              "      <td>5.308618e+07</td>\n",
              "    </tr>\n",
              "    <tr>\n",
              "      <th>mean</th>\n",
              "      <td>8.139472e+00</td>\n",
              "      <td>1.691975e+00</td>\n",
              "      <td>1.351765e+01</td>\n",
              "      <td>6.268899e+00</td>\n",
              "      <td>2.011745e+03</td>\n",
              "      <td>2.116440e+00</td>\n",
              "      <td>3.186226e-01</td>\n",
              "      <td>1.247494e+01</td>\n",
              "    </tr>\n",
              "    <tr>\n",
              "      <th>std</th>\n",
              "      <td>9.522867e+00</td>\n",
              "      <td>1.307224e+00</td>\n",
              "      <td>6.515233e+00</td>\n",
              "      <td>3.436881e+00</td>\n",
              "      <td>1.866116e+00</td>\n",
              "      <td>2.501405e+00</td>\n",
              "      <td>1.669658e+00</td>\n",
              "      <td>2.160954e+00</td>\n",
              "    </tr>\n",
              "    <tr>\n",
              "      <th>min</th>\n",
              "      <td>1.110000e+00</td>\n",
              "      <td>1.000000e+00</td>\n",
              "      <td>0.000000e+00</td>\n",
              "      <td>1.000000e+00</td>\n",
              "      <td>2.009000e+03</td>\n",
              "      <td>1.000002e-01</td>\n",
              "      <td>-3.141579e+00</td>\n",
              "      <td>2.463167e-03</td>\n",
              "    </tr>\n",
              "    <tr>\n",
              "      <th>25%</th>\n",
              "      <td>6.000000e+00</td>\n",
              "      <td>1.000000e+00</td>\n",
              "      <td>9.000000e+00</td>\n",
              "      <td>3.000000e+00</td>\n",
              "      <td>2.010000e+03</td>\n",
              "      <td>8.051382e-01</td>\n",
              "      <td>-8.954259e-01</td>\n",
              "      <td>1.255060e+01</td>\n",
              "    </tr>\n",
              "    <tr>\n",
              "      <th>50%</th>\n",
              "      <td>8.500000e+00</td>\n",
              "      <td>1.000000e+00</td>\n",
              "      <td>1.400000e+01</td>\n",
              "      <td>6.000000e+00</td>\n",
              "      <td>2.012000e+03</td>\n",
              "      <td>1.363405e+00</td>\n",
              "      <td>-1.269417e-01</td>\n",
              "      <td>1.289996e+01</td>\n",
              "    </tr>\n",
              "    <tr>\n",
              "      <th>75%</th>\n",
              "      <td>1.250000e+01</td>\n",
              "      <td>2.000000e+00</td>\n",
              "      <td>1.900000e+01</td>\n",
              "      <td>9.000000e+00</td>\n",
              "      <td>2.013000e+03</td>\n",
              "      <td>2.464353e+00</td>\n",
              "      <td>2.260262e+00</td>\n",
              "      <td>1.325358e+01</td>\n",
              "    </tr>\n",
              "    <tr>\n",
              "      <th>max</th>\n",
              "      <td>3.993300e+02</td>\n",
              "      <td>6.000000e+00</td>\n",
              "      <td>2.300000e+01</td>\n",
              "      <td>1.200000e+01</td>\n",
              "      <td>2.015000e+03</td>\n",
              "      <td>2.123138e+02</td>\n",
              "      <td>3.141593e+00</td>\n",
              "      <td>2.044714e+02</td>\n",
              "    </tr>\n",
              "  </tbody>\n",
              "</table>\n",
              "</div>"
            ],
            "text/plain": [
              "        fare_amount  passenger_count  ...     direction  JFK_distance\n",
              "count  5.308618e+07     5.308618e+07  ...  5.308618e+07  5.308618e+07\n",
              "mean   8.139472e+00     1.691975e+00  ...  3.186226e-01  1.247494e+01\n",
              "std    9.522867e+00     1.307224e+00  ...  1.669658e+00  2.160954e+00\n",
              "min    1.110000e+00     1.000000e+00  ... -3.141579e+00  2.463167e-03\n",
              "25%    6.000000e+00     1.000000e+00  ... -8.954259e-01  1.255060e+01\n",
              "50%    8.500000e+00     1.000000e+00  ... -1.269417e-01  1.289996e+01\n",
              "75%    1.250000e+01     2.000000e+00  ...  2.260262e+00  1.325358e+01\n",
              "max    3.993300e+02     6.000000e+00  ...  3.141593e+00  2.044714e+02\n",
              "\n",
              "[8 rows x 8 columns]"
            ]
          },
          "metadata": {
            "tags": []
          },
          "execution_count": 15
        }
      ]
    },
    {
      "cell_type": "code",
      "metadata": {
        "id": "orA6QGsrM1Fs",
        "colab_type": "code",
        "outputId": "a28700a4-adda-4c82-d491-dd76fc122ac5",
        "colab": {
          "base_uri": "https://localhost:8080/",
          "height": 238
        }
      },
      "source": [
        "#drop location features as the distance has already been calculated and added to the test dataset\n",
        "features_to_drop = ['pickup_longitude',\t'pickup_latitude', 'dropoff_longitude',\t'dropoff_latitude', 'day', 'weekday', 'pickup_datetime']\n",
        "test_dataset.drop(labels = features_to_drop, axis=1, inplace=True)\n",
        "print(test_dataset.shape)\n",
        "\n",
        "#memory before changing datatypes\n",
        "test_dataset.info(memory_usage='deep')"
      ],
      "execution_count": 16,
      "outputs": [
        {
          "output_type": "stream",
          "text": [
            "(9914, 7)\n",
            "<class 'pandas.core.frame.DataFrame'>\n",
            "RangeIndex: 9914 entries, 0 to 9913\n",
            "Data columns (total 7 columns):\n",
            "passenger_count       9914 non-null uint8\n",
            "hour                  9914 non-null int64\n",
            "month                 9914 non-null int64\n",
            "year                  9914 non-null int64\n",
            "haversine_distnace    9914 non-null float32\n",
            "direction             9914 non-null float32\n",
            "JFK_distance          9914 non-null float32\n",
            "dtypes: float32(3), int64(3), uint8(1)\n",
            "memory usage: 358.3 KB\n"
          ],
          "name": "stdout"
        }
      ]
    },
    {
      "cell_type": "code",
      "metadata": {
        "id": "9SZv31w4NYX4",
        "colab_type": "code",
        "outputId": "ea95ca6a-352a-4f9b-f678-9cad61477ebd",
        "colab": {
          "base_uri": "https://localhost:8080/",
          "height": 221
        }
      },
      "source": [
        "#changing datatypes\n",
        "test_dataset.month = test_dataset.month.astype(dtype = 'uint8')\n",
        "test_dataset.year = test_dataset.year.astype(dtype = 'uint16')\n",
        "test_dataset.hour = test_dataset.hour.astype(dtype = 'uint8')\n",
        "test_dataset.haversine_distnace = test_dataset.haversine_distnace.astype(dtype = 'float64')\n",
        "test_dataset.JFK_distance = test_dataset.JFK_distance.astype(dtype = 'float64')\n",
        "#memory before changing datatypes\n",
        "test_dataset.info(memory_usage='deep')"
      ],
      "execution_count": 17,
      "outputs": [
        {
          "output_type": "stream",
          "text": [
            "<class 'pandas.core.frame.DataFrame'>\n",
            "RangeIndex: 9914 entries, 0 to 9913\n",
            "Data columns (total 7 columns):\n",
            "passenger_count       9914 non-null uint8\n",
            "hour                  9914 non-null uint8\n",
            "month                 9914 non-null uint8\n",
            "year                  9914 non-null uint16\n",
            "haversine_distnace    9914 non-null float64\n",
            "direction             9914 non-null float32\n",
            "JFK_distance          9914 non-null float64\n",
            "dtypes: float32(1), float64(2), uint16(1), uint8(3)\n",
            "memory usage: 242.2 KB\n"
          ],
          "name": "stdout"
        }
      ]
    },
    {
      "cell_type": "code",
      "metadata": {
        "id": "TnFj42vclLwa",
        "colab_type": "code",
        "colab": {}
      },
      "source": [
        "y = train_target['fare_amount']\n",
        "X = train_target.drop(columns=['fare_amount'])"
      ],
      "execution_count": 0,
      "outputs": []
    },
    {
      "cell_type": "code",
      "metadata": {
        "id": "ZtuGy6vBnJwy",
        "colab_type": "code",
        "outputId": "103667ac-cba1-468f-ddca-824eb3bdd562",
        "colab": {
          "base_uri": "https://localhost:8080/",
          "height": 85
        }
      },
      "source": [
        "from sklearn.model_selection import train_test_split\n",
        "from sklearn.linear_model import LinearRegression\n",
        "from sklearn.metrics import mean_squared_error\n",
        "\n",
        "X_train, X_test, y_train, y_test = train_test_split(X, y, test_size=0.2, random_state=42)\n",
        "print(X_train.shape)\n",
        "print(X_test.shape)\n",
        "print(y_train.shape)\n",
        "print(y_test.shape)\n"
      ],
      "execution_count": 19,
      "outputs": [
        {
          "output_type": "stream",
          "text": [
            "(42468944, 7)\n",
            "(10617237, 7)\n",
            "(42468944,)\n",
            "(10617237,)\n"
          ],
          "name": "stdout"
        }
      ]
    },
    {
      "cell_type": "code",
      "metadata": {
        "id": "iKGgI0HVllnY",
        "colab_type": "code",
        "outputId": "cfb220c8-fd29-4dd2-c5d1-4c139d24b939",
        "colab": {
          "base_uri": "https://localhost:8080/",
          "height": 51
        }
      },
      "source": [
        "#model1: linear regression\n",
        "\n",
        "model1_LinReg = LinearRegression(normalize = True).fit(X_train, y_train)\n",
        "y_pred1 = model1_LinReg.predict(X_test)\n",
        "y_pred_final = model1_LinReg.predict(test_dataset)\n",
        "print(\"X_Test RMSE: %.3f\" % mean_squared_error(y_test, y_pred1) ** 0.5)\n",
        "'''\n",
        "submission = pd.DataFrame(\n",
        "    {'key': test_temp.key, 'fare_amount': y_pred_final},\n",
        "    columns = ['key', 'fare_amount'])\n",
        "submission.to_csv('submission.csv', index = False)\n",
        "'''"
      ],
      "execution_count": 20,
      "outputs": [
        {
          "output_type": "stream",
          "text": [
            "X_Test RMSE: 5.204\n"
          ],
          "name": "stdout"
        },
        {
          "output_type": "execute_result",
          "data": {
            "text/plain": [
              "\"\\nsubmission = pd.DataFrame(\\n    {'key': test_temp.key, 'fare_amount': y_pred_final},\\n    columns = ['key', 'fare_amount'])\\nsubmission.to_csv('submission.csv', index = False)\\n\""
            ]
          },
          "metadata": {
            "tags": []
          },
          "execution_count": 20
        }
      ]
    },
    {
      "cell_type": "code",
      "metadata": {
        "id": "wINgGKHz93IZ",
        "colab_type": "code",
        "outputId": "3ff0d9d7-930e-4d94-9c5f-b2e90b64fe52",
        "colab": {
          "base_uri": "https://localhost:8080/",
          "height": 51
        }
      },
      "source": [
        "print(model1_LinReg.coef_)"
      ],
      "execution_count": 21,
      "outputs": [
        {
          "output_type": "stream",
          "text": [
            "[ 0.05485363  0.0093622   0.08245557  0.55470152  2.48190197  0.07167412\n",
            " -1.0417533 ]\n"
          ],
          "name": "stdout"
        }
      ]
    },
    {
      "cell_type": "code",
      "metadata": {
        "id": "rbcoHu8BhQIJ",
        "colab_type": "code",
        "outputId": "1191e04c-f136-484f-a56d-b91b3e3394b4",
        "colab": {
          "base_uri": "https://localhost:8080/",
          "height": 88
        }
      },
      "source": [
        "import pickle\n",
        "from sklearn.externals import joblib\n",
        "\n",
        "# save the model to disk\n",
        "filename = 'finalized_lin_reg_model.sav'\n",
        "joblib.dump(model1_LinReg, filename)"
      ],
      "execution_count": 22,
      "outputs": [
        {
          "output_type": "stream",
          "text": [
            "/usr/local/lib/python3.6/dist-packages/sklearn/externals/joblib/__init__.py:15: DeprecationWarning: sklearn.externals.joblib is deprecated in 0.21 and will be removed in 0.23. Please import this functionality directly from joblib, which can be installed with: pip install joblib. If this warning is raised when loading pickled models, you may need to re-serialize those models with scikit-learn 0.21+.\n",
            "  warnings.warn(msg, category=DeprecationWarning)\n"
          ],
          "name": "stderr"
        },
        {
          "output_type": "execute_result",
          "data": {
            "text/plain": [
              "['finalized_lin_reg_model.sav']"
            ]
          },
          "metadata": {
            "tags": []
          },
          "execution_count": 22
        }
      ]
    },
    {
      "cell_type": "code",
      "metadata": {
        "id": "Pra8Xv22kQrA",
        "colab_type": "code",
        "outputId": "33b07757-ac86-4353-b1c3-bffce1e5242c",
        "colab": {
          "base_uri": "https://localhost:8080/",
          "height": 34
        }
      },
      "source": [
        "# load the model from disk\n",
        "loaded_model_lin_reg = joblib.load(filename)\n",
        "result = loaded_model_lin_reg.predict(test_dataset[0:5])\n",
        "print(result)"
      ],
      "execution_count": 23,
      "outputs": [
        {
          "output_type": "stream",
          "text": [
            "[10.60416483 11.06123605  5.3277658   9.23526979 14.2319599 ]\n"
          ],
          "name": "stdout"
        }
      ]
    },
    {
      "cell_type": "code",
      "metadata": {
        "id": "RbthoRcXOm44",
        "colab_type": "code",
        "colab": {
          "base_uri": "https://localhost:8080/",
          "height": 1000
        },
        "outputId": "ac807c51-61d8-44ce-c320-a268d8d758c2"
      },
      "source": [
        "#model 2: Light GBM\n",
        "import lightgbm as lgb\n",
        "\n",
        "params = {\n",
        "        'learning_rate': 0.75,\n",
        "        'application': 'regression',\n",
        "        'max_depth': 3,\n",
        "        'num_leaves': 100,\n",
        "        'verbosity': -1,\n",
        "        'metric': 'RMSE',\n",
        "    }\n",
        "\n",
        "evals_result = {}\n",
        "\n",
        "train_set = lgb.Dataset(X_train, y_train)\n",
        "test_set = lgb.Dataset(X_test, y_test)\n",
        "model2_lb = lgb.train(params, train_set = train_set, valid_sets = train_set, num_boost_round=800, evals_result=evals_result)\n",
        "y_pred2 = model2_lb.predict(X_test, num_iteration = model2_lb.best_iteration)\n",
        "print(\"Test RMSE: %.3f\" % mean_squared_error(y_test, y_pred2) ** 0.5)\n",
        "\n",
        "y_pred_final_lgbm = model2_lb.predict(test_dataset[0:1])"
      ],
      "execution_count": 24,
      "outputs": [
        {
          "output_type": "stream",
          "text": [
            "[1]\ttraining's rmse: 4.85682\n",
            "[2]\ttraining's rmse: 4.2046\n",
            "[3]\ttraining's rmse: 4.07607\n",
            "[4]\ttraining's rmse: 4.02118\n",
            "[5]\ttraining's rmse: 3.9685\n",
            "[6]\ttraining's rmse: 3.91713\n",
            "[7]\ttraining's rmse: 3.87921\n",
            "[8]\ttraining's rmse: 3.85053\n",
            "[9]\ttraining's rmse: 3.82424\n",
            "[10]\ttraining's rmse: 3.81519\n",
            "[11]\ttraining's rmse: 3.80792\n",
            "[12]\ttraining's rmse: 3.77606\n",
            "[13]\ttraining's rmse: 3.75743\n",
            "[14]\ttraining's rmse: 3.73937\n",
            "[15]\ttraining's rmse: 3.7269\n",
            "[16]\ttraining's rmse: 3.72295\n",
            "[17]\ttraining's rmse: 3.72048\n",
            "[18]\ttraining's rmse: 3.69854\n",
            "[19]\ttraining's rmse: 3.69624\n",
            "[20]\ttraining's rmse: 3.69402\n",
            "[21]\ttraining's rmse: 3.67309\n",
            "[22]\ttraining's rmse: 3.6635\n",
            "[23]\ttraining's rmse: 3.6564\n",
            "[24]\ttraining's rmse: 3.64153\n",
            "[25]\ttraining's rmse: 3.63183\n",
            "[26]\ttraining's rmse: 3.62749\n",
            "[27]\ttraining's rmse: 3.62348\n",
            "[28]\ttraining's rmse: 3.62036\n",
            "[29]\ttraining's rmse: 3.61582\n",
            "[30]\ttraining's rmse: 3.60889\n",
            "[31]\ttraining's rmse: 3.60548\n",
            "[32]\ttraining's rmse: 3.60259\n",
            "[33]\ttraining's rmse: 3.59786\n",
            "[34]\ttraining's rmse: 3.59361\n",
            "[35]\ttraining's rmse: 3.58824\n",
            "[36]\ttraining's rmse: 3.58613\n",
            "[37]\ttraining's rmse: 3.58413\n",
            "[38]\ttraining's rmse: 3.57893\n",
            "[39]\ttraining's rmse: 3.57592\n",
            "[40]\ttraining's rmse: 3.57462\n",
            "[41]\ttraining's rmse: 3.57266\n",
            "[42]\ttraining's rmse: 3.57064\n",
            "[43]\ttraining's rmse: 3.56869\n",
            "[44]\ttraining's rmse: 3.56742\n",
            "[45]\ttraining's rmse: 3.56605\n",
            "[46]\ttraining's rmse: 3.56368\n",
            "[47]\ttraining's rmse: 3.56319\n",
            "[48]\ttraining's rmse: 3.56166\n",
            "[49]\ttraining's rmse: 3.56088\n",
            "[50]\ttraining's rmse: 3.55904\n",
            "[51]\ttraining's rmse: 3.55791\n",
            "[52]\ttraining's rmse: 3.55646\n",
            "[53]\ttraining's rmse: 3.55524\n",
            "[54]\ttraining's rmse: 3.5537\n",
            "[55]\ttraining's rmse: 3.55195\n",
            "[56]\ttraining's rmse: 3.55009\n",
            "[57]\ttraining's rmse: 3.54713\n",
            "[58]\ttraining's rmse: 3.5463\n",
            "[59]\ttraining's rmse: 3.54317\n",
            "[60]\ttraining's rmse: 3.54088\n",
            "[61]\ttraining's rmse: 3.53761\n",
            "[62]\ttraining's rmse: 3.53335\n",
            "[63]\ttraining's rmse: 3.52961\n",
            "[64]\ttraining's rmse: 3.52704\n",
            "[65]\ttraining's rmse: 3.52449\n",
            "[66]\ttraining's rmse: 3.52262\n",
            "[67]\ttraining's rmse: 3.5211\n",
            "[68]\ttraining's rmse: 3.51973\n",
            "[69]\ttraining's rmse: 3.51868\n",
            "[70]\ttraining's rmse: 3.51819\n",
            "[71]\ttraining's rmse: 3.51731\n",
            "[72]\ttraining's rmse: 3.51679\n",
            "[73]\ttraining's rmse: 3.50868\n",
            "[74]\ttraining's rmse: 3.50721\n",
            "[75]\ttraining's rmse: 3.50621\n",
            "[76]\ttraining's rmse: 3.50229\n",
            "[77]\ttraining's rmse: 3.50148\n",
            "[78]\ttraining's rmse: 3.49973\n",
            "[79]\ttraining's rmse: 3.49813\n",
            "[80]\ttraining's rmse: 3.49733\n",
            "[81]\ttraining's rmse: 3.49641\n",
            "[82]\ttraining's rmse: 3.4957\n",
            "[83]\ttraining's rmse: 3.49455\n",
            "[84]\ttraining's rmse: 3.49354\n",
            "[85]\ttraining's rmse: 3.49129\n",
            "[86]\ttraining's rmse: 3.49069\n",
            "[87]\ttraining's rmse: 3.48986\n",
            "[88]\ttraining's rmse: 3.48906\n",
            "[89]\ttraining's rmse: 3.48848\n",
            "[90]\ttraining's rmse: 3.48774\n",
            "[91]\ttraining's rmse: 3.48654\n",
            "[92]\ttraining's rmse: 3.48574\n",
            "[93]\ttraining's rmse: 3.48446\n",
            "[94]\ttraining's rmse: 3.48337\n",
            "[95]\ttraining's rmse: 3.48218\n",
            "[96]\ttraining's rmse: 3.48083\n",
            "[97]\ttraining's rmse: 3.4802\n",
            "[98]\ttraining's rmse: 3.47954\n",
            "[99]\ttraining's rmse: 3.47824\n",
            "[100]\ttraining's rmse: 3.47727\n",
            "[101]\ttraining's rmse: 3.47632\n",
            "[102]\ttraining's rmse: 3.4752\n",
            "[103]\ttraining's rmse: 3.47397\n",
            "[104]\ttraining's rmse: 3.47301\n",
            "[105]\ttraining's rmse: 3.47232\n",
            "[106]\ttraining's rmse: 3.47173\n",
            "[107]\ttraining's rmse: 3.47099\n",
            "[108]\ttraining's rmse: 3.47018\n",
            "[109]\ttraining's rmse: 3.46924\n",
            "[110]\ttraining's rmse: 3.46817\n",
            "[111]\ttraining's rmse: 3.46722\n",
            "[112]\ttraining's rmse: 3.46677\n",
            "[113]\ttraining's rmse: 3.46575\n",
            "[114]\ttraining's rmse: 3.46528\n",
            "[115]\ttraining's rmse: 3.46501\n",
            "[116]\ttraining's rmse: 3.46404\n",
            "[117]\ttraining's rmse: 3.46345\n",
            "[118]\ttraining's rmse: 3.46224\n",
            "[119]\ttraining's rmse: 3.46015\n",
            "[120]\ttraining's rmse: 3.45934\n",
            "[121]\ttraining's rmse: 3.45835\n",
            "[122]\ttraining's rmse: 3.45795\n",
            "[123]\ttraining's rmse: 3.45764\n",
            "[124]\ttraining's rmse: 3.4573\n",
            "[125]\ttraining's rmse: 3.45715\n",
            "[126]\ttraining's rmse: 3.45686\n",
            "[127]\ttraining's rmse: 3.45648\n",
            "[128]\ttraining's rmse: 3.45622\n",
            "[129]\ttraining's rmse: 3.45469\n",
            "[130]\ttraining's rmse: 3.45387\n",
            "[131]\ttraining's rmse: 3.45346\n",
            "[132]\ttraining's rmse: 3.45178\n",
            "[133]\ttraining's rmse: 3.45119\n",
            "[134]\ttraining's rmse: 3.45065\n",
            "[135]\ttraining's rmse: 3.44993\n",
            "[136]\ttraining's rmse: 3.44965\n",
            "[137]\ttraining's rmse: 3.44895\n",
            "[138]\ttraining's rmse: 3.44833\n",
            "[139]\ttraining's rmse: 3.44749\n",
            "[140]\ttraining's rmse: 3.44694\n",
            "[141]\ttraining's rmse: 3.44667\n",
            "[142]\ttraining's rmse: 3.44605\n",
            "[143]\ttraining's rmse: 3.44562\n",
            "[144]\ttraining's rmse: 3.44509\n",
            "[145]\ttraining's rmse: 3.44444\n",
            "[146]\ttraining's rmse: 3.44354\n",
            "[147]\ttraining's rmse: 3.44283\n",
            "[148]\ttraining's rmse: 3.4422\n",
            "[149]\ttraining's rmse: 3.44153\n",
            "[150]\ttraining's rmse: 3.44112\n",
            "[151]\ttraining's rmse: 3.44068\n",
            "[152]\ttraining's rmse: 3.44009\n",
            "[153]\ttraining's rmse: 3.43931\n",
            "[154]\ttraining's rmse: 3.43891\n",
            "[155]\ttraining's rmse: 3.43864\n",
            "[156]\ttraining's rmse: 3.43825\n",
            "[157]\ttraining's rmse: 3.43771\n",
            "[158]\ttraining's rmse: 3.43742\n",
            "[159]\ttraining's rmse: 3.43688\n",
            "[160]\ttraining's rmse: 3.43653\n",
            "[161]\ttraining's rmse: 3.43611\n",
            "[162]\ttraining's rmse: 3.43549\n",
            "[163]\ttraining's rmse: 3.43471\n",
            "[164]\ttraining's rmse: 3.43351\n",
            "[165]\ttraining's rmse: 3.43293\n",
            "[166]\ttraining's rmse: 3.43233\n",
            "[167]\ttraining's rmse: 3.43191\n",
            "[168]\ttraining's rmse: 3.4317\n",
            "[169]\ttraining's rmse: 3.43111\n",
            "[170]\ttraining's rmse: 3.4305\n",
            "[171]\ttraining's rmse: 3.42982\n",
            "[172]\ttraining's rmse: 3.42946\n",
            "[173]\ttraining's rmse: 3.4291\n",
            "[174]\ttraining's rmse: 3.42848\n",
            "[175]\ttraining's rmse: 3.42816\n",
            "[176]\ttraining's rmse: 3.42787\n",
            "[177]\ttraining's rmse: 3.4276\n",
            "[178]\ttraining's rmse: 3.42741\n",
            "[179]\ttraining's rmse: 3.427\n",
            "[180]\ttraining's rmse: 3.42652\n",
            "[181]\ttraining's rmse: 3.42577\n",
            "[182]\ttraining's rmse: 3.42527\n",
            "[183]\ttraining's rmse: 3.42501\n",
            "[184]\ttraining's rmse: 3.42464\n",
            "[185]\ttraining's rmse: 3.42408\n",
            "[186]\ttraining's rmse: 3.42372\n",
            "[187]\ttraining's rmse: 3.42316\n",
            "[188]\ttraining's rmse: 3.423\n",
            "[189]\ttraining's rmse: 3.42263\n",
            "[190]\ttraining's rmse: 3.42235\n",
            "[191]\ttraining's rmse: 3.42205\n",
            "[192]\ttraining's rmse: 3.42162\n",
            "[193]\ttraining's rmse: 3.42142\n",
            "[194]\ttraining's rmse: 3.42098\n",
            "[195]\ttraining's rmse: 3.42066\n",
            "[196]\ttraining's rmse: 3.42028\n",
            "[197]\ttraining's rmse: 3.41957\n",
            "[198]\ttraining's rmse: 3.41901\n",
            "[199]\ttraining's rmse: 3.41854\n",
            "[200]\ttraining's rmse: 3.41772\n",
            "[201]\ttraining's rmse: 3.4174\n",
            "[202]\ttraining's rmse: 3.41727\n",
            "[203]\ttraining's rmse: 3.41662\n",
            "[204]\ttraining's rmse: 3.41616\n",
            "[205]\ttraining's rmse: 3.41568\n",
            "[206]\ttraining's rmse: 3.41539\n",
            "[207]\ttraining's rmse: 3.41517\n",
            "[208]\ttraining's rmse: 3.41478\n",
            "[209]\ttraining's rmse: 3.4145\n",
            "[210]\ttraining's rmse: 3.41411\n",
            "[211]\ttraining's rmse: 3.41376\n",
            "[212]\ttraining's rmse: 3.41361\n",
            "[213]\ttraining's rmse: 3.41325\n",
            "[214]\ttraining's rmse: 3.41312\n",
            "[215]\ttraining's rmse: 3.41266\n",
            "[216]\ttraining's rmse: 3.41255\n",
            "[217]\ttraining's rmse: 3.41232\n",
            "[218]\ttraining's rmse: 3.41212\n",
            "[219]\ttraining's rmse: 3.41176\n",
            "[220]\ttraining's rmse: 3.41152\n",
            "[221]\ttraining's rmse: 3.4112\n",
            "[222]\ttraining's rmse: 3.41088\n",
            "[223]\ttraining's rmse: 3.41028\n",
            "[224]\ttraining's rmse: 3.41\n",
            "[225]\ttraining's rmse: 3.40981\n",
            "[226]\ttraining's rmse: 3.40949\n",
            "[227]\ttraining's rmse: 3.40854\n",
            "[228]\ttraining's rmse: 3.40832\n",
            "[229]\ttraining's rmse: 3.40807\n",
            "[230]\ttraining's rmse: 3.40769\n",
            "[231]\ttraining's rmse: 3.40726\n",
            "[232]\ttraining's rmse: 3.407\n",
            "[233]\ttraining's rmse: 3.40645\n",
            "[234]\ttraining's rmse: 3.40623\n",
            "[235]\ttraining's rmse: 3.40603\n",
            "[236]\ttraining's rmse: 3.40591\n",
            "[237]\ttraining's rmse: 3.40574\n",
            "[238]\ttraining's rmse: 3.40557\n",
            "[239]\ttraining's rmse: 3.40515\n",
            "[240]\ttraining's rmse: 3.40479\n",
            "[241]\ttraining's rmse: 3.40448\n",
            "[242]\ttraining's rmse: 3.40426\n",
            "[243]\ttraining's rmse: 3.40406\n",
            "[244]\ttraining's rmse: 3.40382\n",
            "[245]\ttraining's rmse: 3.40354\n",
            "[246]\ttraining's rmse: 3.40322\n",
            "[247]\ttraining's rmse: 3.40294\n",
            "[248]\ttraining's rmse: 3.40238\n",
            "[249]\ttraining's rmse: 3.40216\n",
            "[250]\ttraining's rmse: 3.402\n",
            "[251]\ttraining's rmse: 3.40187\n",
            "[252]\ttraining's rmse: 3.40159\n",
            "[253]\ttraining's rmse: 3.40137\n",
            "[254]\ttraining's rmse: 3.40111\n",
            "[255]\ttraining's rmse: 3.40052\n",
            "[256]\ttraining's rmse: 3.39995\n",
            "[257]\ttraining's rmse: 3.39972\n",
            "[258]\ttraining's rmse: 3.39952\n",
            "[259]\ttraining's rmse: 3.39939\n",
            "[260]\ttraining's rmse: 3.39931\n",
            "[261]\ttraining's rmse: 3.39918\n",
            "[262]\ttraining's rmse: 3.39899\n",
            "[263]\ttraining's rmse: 3.39875\n",
            "[264]\ttraining's rmse: 3.39861\n",
            "[265]\ttraining's rmse: 3.39853\n",
            "[266]\ttraining's rmse: 3.39839\n",
            "[267]\ttraining's rmse: 3.39819\n",
            "[268]\ttraining's rmse: 3.39806\n",
            "[269]\ttraining's rmse: 3.39789\n",
            "[270]\ttraining's rmse: 3.39776\n",
            "[271]\ttraining's rmse: 3.39749\n",
            "[272]\ttraining's rmse: 3.39738\n",
            "[273]\ttraining's rmse: 3.39724\n",
            "[274]\ttraining's rmse: 3.39699\n",
            "[275]\ttraining's rmse: 3.39648\n",
            "[276]\ttraining's rmse: 3.39632\n",
            "[277]\ttraining's rmse: 3.39607\n",
            "[278]\ttraining's rmse: 3.39589\n",
            "[279]\ttraining's rmse: 3.39559\n",
            "[280]\ttraining's rmse: 3.395\n",
            "[281]\ttraining's rmse: 3.39453\n",
            "[282]\ttraining's rmse: 3.39439\n",
            "[283]\ttraining's rmse: 3.39412\n",
            "[284]\ttraining's rmse: 3.39387\n",
            "[285]\ttraining's rmse: 3.39378\n",
            "[286]\ttraining's rmse: 3.39347\n",
            "[287]\ttraining's rmse: 3.39322\n",
            "[288]\ttraining's rmse: 3.39306\n",
            "[289]\ttraining's rmse: 3.39263\n",
            "[290]\ttraining's rmse: 3.3921\n",
            "[291]\ttraining's rmse: 3.39192\n",
            "[292]\ttraining's rmse: 3.3913\n",
            "[293]\ttraining's rmse: 3.39111\n",
            "[294]\ttraining's rmse: 3.391\n",
            "[295]\ttraining's rmse: 3.39073\n",
            "[296]\ttraining's rmse: 3.39055\n",
            "[297]\ttraining's rmse: 3.38999\n",
            "[298]\ttraining's rmse: 3.38989\n",
            "[299]\ttraining's rmse: 3.38969\n",
            "[300]\ttraining's rmse: 3.38937\n",
            "[301]\ttraining's rmse: 3.38929\n",
            "[302]\ttraining's rmse: 3.38921\n",
            "[303]\ttraining's rmse: 3.38916\n",
            "[304]\ttraining's rmse: 3.3891\n",
            "[305]\ttraining's rmse: 3.38894\n",
            "[306]\ttraining's rmse: 3.38876\n",
            "[307]\ttraining's rmse: 3.38858\n",
            "[308]\ttraining's rmse: 3.38835\n",
            "[309]\ttraining's rmse: 3.38812\n",
            "[310]\ttraining's rmse: 3.38776\n",
            "[311]\ttraining's rmse: 3.38754\n",
            "[312]\ttraining's rmse: 3.38734\n",
            "[313]\ttraining's rmse: 3.38713\n",
            "[314]\ttraining's rmse: 3.38698\n",
            "[315]\ttraining's rmse: 3.38678\n",
            "[316]\ttraining's rmse: 3.38645\n",
            "[317]\ttraining's rmse: 3.3863\n",
            "[318]\ttraining's rmse: 3.386\n",
            "[319]\ttraining's rmse: 3.38587\n",
            "[320]\ttraining's rmse: 3.38564\n",
            "[321]\ttraining's rmse: 3.38534\n",
            "[322]\ttraining's rmse: 3.38512\n",
            "[323]\ttraining's rmse: 3.385\n",
            "[324]\ttraining's rmse: 3.38488\n",
            "[325]\ttraining's rmse: 3.38473\n",
            "[326]\ttraining's rmse: 3.38465\n",
            "[327]\ttraining's rmse: 3.38449\n",
            "[328]\ttraining's rmse: 3.38441\n",
            "[329]\ttraining's rmse: 3.38421\n",
            "[330]\ttraining's rmse: 3.38399\n",
            "[331]\ttraining's rmse: 3.38388\n",
            "[332]\ttraining's rmse: 3.38374\n",
            "[333]\ttraining's rmse: 3.38355\n",
            "[334]\ttraining's rmse: 3.38346\n",
            "[335]\ttraining's rmse: 3.38337\n",
            "[336]\ttraining's rmse: 3.3832\n",
            "[337]\ttraining's rmse: 3.383\n",
            "[338]\ttraining's rmse: 3.3829\n",
            "[339]\ttraining's rmse: 3.38277\n",
            "[340]\ttraining's rmse: 3.38261\n",
            "[341]\ttraining's rmse: 3.38238\n",
            "[342]\ttraining's rmse: 3.38214\n",
            "[343]\ttraining's rmse: 3.38199\n",
            "[344]\ttraining's rmse: 3.38188\n",
            "[345]\ttraining's rmse: 3.38175\n",
            "[346]\ttraining's rmse: 3.38152\n",
            "[347]\ttraining's rmse: 3.38133\n",
            "[348]\ttraining's rmse: 3.3812\n",
            "[349]\ttraining's rmse: 3.38098\n",
            "[350]\ttraining's rmse: 3.38081\n",
            "[351]\ttraining's rmse: 3.38066\n",
            "[352]\ttraining's rmse: 3.38057\n",
            "[353]\ttraining's rmse: 3.3804\n",
            "[354]\ttraining's rmse: 3.38021\n",
            "[355]\ttraining's rmse: 3.38008\n",
            "[356]\ttraining's rmse: 3.37991\n",
            "[357]\ttraining's rmse: 3.3798\n",
            "[358]\ttraining's rmse: 3.37969\n",
            "[359]\ttraining's rmse: 3.37954\n",
            "[360]\ttraining's rmse: 3.37938\n",
            "[361]\ttraining's rmse: 3.37927\n",
            "[362]\ttraining's rmse: 3.37909\n",
            "[363]\ttraining's rmse: 3.37899\n",
            "[364]\ttraining's rmse: 3.37876\n",
            "[365]\ttraining's rmse: 3.37857\n",
            "[366]\ttraining's rmse: 3.3784\n",
            "[367]\ttraining's rmse: 3.3783\n",
            "[368]\ttraining's rmse: 3.37807\n",
            "[369]\ttraining's rmse: 3.37793\n",
            "[370]\ttraining's rmse: 3.37777\n",
            "[371]\ttraining's rmse: 3.37768\n",
            "[372]\ttraining's rmse: 3.37752\n",
            "[373]\ttraining's rmse: 3.37733\n",
            "[374]\ttraining's rmse: 3.37705\n",
            "[375]\ttraining's rmse: 3.37694\n",
            "[376]\ttraining's rmse: 3.37675\n",
            "[377]\ttraining's rmse: 3.37659\n",
            "[378]\ttraining's rmse: 3.37647\n",
            "[379]\ttraining's rmse: 3.37616\n",
            "[380]\ttraining's rmse: 3.37604\n",
            "[381]\ttraining's rmse: 3.37588\n",
            "[382]\ttraining's rmse: 3.37567\n",
            "[383]\ttraining's rmse: 3.37555\n",
            "[384]\ttraining's rmse: 3.37539\n",
            "[385]\ttraining's rmse: 3.37524\n",
            "[386]\ttraining's rmse: 3.37513\n",
            "[387]\ttraining's rmse: 3.37502\n",
            "[388]\ttraining's rmse: 3.37462\n",
            "[389]\ttraining's rmse: 3.37455\n",
            "[390]\ttraining's rmse: 3.37443\n",
            "[391]\ttraining's rmse: 3.37428\n",
            "[392]\ttraining's rmse: 3.37416\n",
            "[393]\ttraining's rmse: 3.37397\n",
            "[394]\ttraining's rmse: 3.37384\n",
            "[395]\ttraining's rmse: 3.3736\n",
            "[396]\ttraining's rmse: 3.37347\n",
            "[397]\ttraining's rmse: 3.37337\n",
            "[398]\ttraining's rmse: 3.37323\n",
            "[399]\ttraining's rmse: 3.37299\n",
            "[400]\ttraining's rmse: 3.37289\n",
            "[401]\ttraining's rmse: 3.3727\n",
            "[402]\ttraining's rmse: 3.37257\n",
            "[403]\ttraining's rmse: 3.37232\n",
            "[404]\ttraining's rmse: 3.37222\n",
            "[405]\ttraining's rmse: 3.37194\n",
            "[406]\ttraining's rmse: 3.37171\n",
            "[407]\ttraining's rmse: 3.37165\n",
            "[408]\ttraining's rmse: 3.3711\n",
            "[409]\ttraining's rmse: 3.37101\n",
            "[410]\ttraining's rmse: 3.37088\n",
            "[411]\ttraining's rmse: 3.37069\n",
            "[412]\ttraining's rmse: 3.37056\n",
            "[413]\ttraining's rmse: 3.37039\n",
            "[414]\ttraining's rmse: 3.37026\n",
            "[415]\ttraining's rmse: 3.37018\n",
            "[416]\ttraining's rmse: 3.37004\n",
            "[417]\ttraining's rmse: 3.3699\n",
            "[418]\ttraining's rmse: 3.36978\n",
            "[419]\ttraining's rmse: 3.36973\n",
            "[420]\ttraining's rmse: 3.36957\n",
            "[421]\ttraining's rmse: 3.36941\n",
            "[422]\ttraining's rmse: 3.36933\n",
            "[423]\ttraining's rmse: 3.3692\n",
            "[424]\ttraining's rmse: 3.36912\n",
            "[425]\ttraining's rmse: 3.36905\n",
            "[426]\ttraining's rmse: 3.36882\n",
            "[427]\ttraining's rmse: 3.36871\n",
            "[428]\ttraining's rmse: 3.36828\n",
            "[429]\ttraining's rmse: 3.36818\n",
            "[430]\ttraining's rmse: 3.3681\n",
            "[431]\ttraining's rmse: 3.36798\n",
            "[432]\ttraining's rmse: 3.36782\n",
            "[433]\ttraining's rmse: 3.36774\n",
            "[434]\ttraining's rmse: 3.3676\n",
            "[435]\ttraining's rmse: 3.36749\n",
            "[436]\ttraining's rmse: 3.36743\n",
            "[437]\ttraining's rmse: 3.36729\n",
            "[438]\ttraining's rmse: 3.36714\n",
            "[439]\ttraining's rmse: 3.36707\n",
            "[440]\ttraining's rmse: 3.36693\n",
            "[441]\ttraining's rmse: 3.36682\n",
            "[442]\ttraining's rmse: 3.36669\n",
            "[443]\ttraining's rmse: 3.36659\n",
            "[444]\ttraining's rmse: 3.36654\n",
            "[445]\ttraining's rmse: 3.36646\n",
            "[446]\ttraining's rmse: 3.3663\n",
            "[447]\ttraining's rmse: 3.3662\n",
            "[448]\ttraining's rmse: 3.36612\n",
            "[449]\ttraining's rmse: 3.36604\n",
            "[450]\ttraining's rmse: 3.36597\n",
            "[451]\ttraining's rmse: 3.36588\n",
            "[452]\ttraining's rmse: 3.36582\n",
            "[453]\ttraining's rmse: 3.36575\n",
            "[454]\ttraining's rmse: 3.36567\n",
            "[455]\ttraining's rmse: 3.36558\n",
            "[456]\ttraining's rmse: 3.36551\n",
            "[457]\ttraining's rmse: 3.36538\n",
            "[458]\ttraining's rmse: 3.36528\n",
            "[459]\ttraining's rmse: 3.36523\n",
            "[460]\ttraining's rmse: 3.36511\n",
            "[461]\ttraining's rmse: 3.36504\n",
            "[462]\ttraining's rmse: 3.36497\n",
            "[463]\ttraining's rmse: 3.36489\n",
            "[464]\ttraining's rmse: 3.36481\n",
            "[465]\ttraining's rmse: 3.36468\n",
            "[466]\ttraining's rmse: 3.36457\n",
            "[467]\ttraining's rmse: 3.36447\n",
            "[468]\ttraining's rmse: 3.36442\n",
            "[469]\ttraining's rmse: 3.36429\n",
            "[470]\ttraining's rmse: 3.36419\n",
            "[471]\ttraining's rmse: 3.36411\n",
            "[472]\ttraining's rmse: 3.36401\n",
            "[473]\ttraining's rmse: 3.36395\n",
            "[474]\ttraining's rmse: 3.36388\n",
            "[475]\ttraining's rmse: 3.36377\n",
            "[476]\ttraining's rmse: 3.36351\n",
            "[477]\ttraining's rmse: 3.3633\n",
            "[478]\ttraining's rmse: 3.36323\n",
            "[479]\ttraining's rmse: 3.36316\n",
            "[480]\ttraining's rmse: 3.36309\n",
            "[481]\ttraining's rmse: 3.36292\n",
            "[482]\ttraining's rmse: 3.36282\n",
            "[483]\ttraining's rmse: 3.36261\n",
            "[484]\ttraining's rmse: 3.36253\n",
            "[485]\ttraining's rmse: 3.36242\n",
            "[486]\ttraining's rmse: 3.36238\n",
            "[487]\ttraining's rmse: 3.36231\n",
            "[488]\ttraining's rmse: 3.36225\n",
            "[489]\ttraining's rmse: 3.3622\n",
            "[490]\ttraining's rmse: 3.36207\n",
            "[491]\ttraining's rmse: 3.36199\n",
            "[492]\ttraining's rmse: 3.3619\n",
            "[493]\ttraining's rmse: 3.36177\n",
            "[494]\ttraining's rmse: 3.36166\n",
            "[495]\ttraining's rmse: 3.36142\n",
            "[496]\ttraining's rmse: 3.36129\n",
            "[497]\ttraining's rmse: 3.36116\n",
            "[498]\ttraining's rmse: 3.36096\n",
            "[499]\ttraining's rmse: 3.3609\n",
            "[500]\ttraining's rmse: 3.36078\n",
            "[501]\ttraining's rmse: 3.36072\n",
            "[502]\ttraining's rmse: 3.36063\n",
            "[503]\ttraining's rmse: 3.36049\n",
            "[504]\ttraining's rmse: 3.3604\n",
            "[505]\ttraining's rmse: 3.36031\n",
            "[506]\ttraining's rmse: 3.36025\n",
            "[507]\ttraining's rmse: 3.36017\n",
            "[508]\ttraining's rmse: 3.36012\n",
            "[509]\ttraining's rmse: 3.36007\n",
            "[510]\ttraining's rmse: 3.35991\n",
            "[511]\ttraining's rmse: 3.35984\n",
            "[512]\ttraining's rmse: 3.3598\n",
            "[513]\ttraining's rmse: 3.35955\n",
            "[514]\ttraining's rmse: 3.35948\n",
            "[515]\ttraining's rmse: 3.3594\n",
            "[516]\ttraining's rmse: 3.35935\n",
            "[517]\ttraining's rmse: 3.3593\n",
            "[518]\ttraining's rmse: 3.35922\n",
            "[519]\ttraining's rmse: 3.35905\n",
            "[520]\ttraining's rmse: 3.35893\n",
            "[521]\ttraining's rmse: 3.35873\n",
            "[522]\ttraining's rmse: 3.35851\n",
            "[523]\ttraining's rmse: 3.35831\n",
            "[524]\ttraining's rmse: 3.35823\n",
            "[525]\ttraining's rmse: 3.35814\n",
            "[526]\ttraining's rmse: 3.35804\n",
            "[527]\ttraining's rmse: 3.35797\n",
            "[528]\ttraining's rmse: 3.35791\n",
            "[529]\ttraining's rmse: 3.35786\n",
            "[530]\ttraining's rmse: 3.35781\n",
            "[531]\ttraining's rmse: 3.35774\n",
            "[532]\ttraining's rmse: 3.3577\n",
            "[533]\ttraining's rmse: 3.35762\n",
            "[534]\ttraining's rmse: 3.35757\n",
            "[535]\ttraining's rmse: 3.35749\n",
            "[536]\ttraining's rmse: 3.3574\n",
            "[537]\ttraining's rmse: 3.35733\n",
            "[538]\ttraining's rmse: 3.35729\n",
            "[539]\ttraining's rmse: 3.35721\n",
            "[540]\ttraining's rmse: 3.35704\n",
            "[541]\ttraining's rmse: 3.35697\n",
            "[542]\ttraining's rmse: 3.35688\n",
            "[543]\ttraining's rmse: 3.35681\n",
            "[544]\ttraining's rmse: 3.35673\n",
            "[545]\ttraining's rmse: 3.35668\n",
            "[546]\ttraining's rmse: 3.3565\n",
            "[547]\ttraining's rmse: 3.35626\n",
            "[548]\ttraining's rmse: 3.3561\n",
            "[549]\ttraining's rmse: 3.35602\n",
            "[550]\ttraining's rmse: 3.35594\n",
            "[551]\ttraining's rmse: 3.35586\n",
            "[552]\ttraining's rmse: 3.3558\n",
            "[553]\ttraining's rmse: 3.35571\n",
            "[554]\ttraining's rmse: 3.3555\n",
            "[555]\ttraining's rmse: 3.3554\n",
            "[556]\ttraining's rmse: 3.35536\n",
            "[557]\ttraining's rmse: 3.35525\n",
            "[558]\ttraining's rmse: 3.35516\n",
            "[559]\ttraining's rmse: 3.35507\n",
            "[560]\ttraining's rmse: 3.355\n",
            "[561]\ttraining's rmse: 3.35485\n",
            "[562]\ttraining's rmse: 3.35478\n",
            "[563]\ttraining's rmse: 3.35469\n",
            "[564]\ttraining's rmse: 3.35458\n",
            "[565]\ttraining's rmse: 3.35447\n",
            "[566]\ttraining's rmse: 3.35436\n",
            "[567]\ttraining's rmse: 3.35428\n",
            "[568]\ttraining's rmse: 3.35418\n",
            "[569]\ttraining's rmse: 3.35406\n",
            "[570]\ttraining's rmse: 3.35397\n",
            "[571]\ttraining's rmse: 3.35384\n",
            "[572]\ttraining's rmse: 3.35378\n",
            "[573]\ttraining's rmse: 3.35373\n",
            "[574]\ttraining's rmse: 3.35363\n",
            "[575]\ttraining's rmse: 3.35357\n",
            "[576]\ttraining's rmse: 3.35353\n",
            "[577]\ttraining's rmse: 3.35342\n",
            "[578]\ttraining's rmse: 3.35336\n",
            "[579]\ttraining's rmse: 3.3533\n",
            "[580]\ttraining's rmse: 3.35319\n",
            "[581]\ttraining's rmse: 3.35314\n",
            "[582]\ttraining's rmse: 3.35309\n",
            "[583]\ttraining's rmse: 3.35304\n",
            "[584]\ttraining's rmse: 3.35293\n",
            "[585]\ttraining's rmse: 3.35281\n",
            "[586]\ttraining's rmse: 3.35274\n",
            "[587]\ttraining's rmse: 3.35267\n",
            "[588]\ttraining's rmse: 3.35254\n",
            "[589]\ttraining's rmse: 3.35249\n",
            "[590]\ttraining's rmse: 3.3524\n",
            "[591]\ttraining's rmse: 3.35229\n",
            "[592]\ttraining's rmse: 3.35219\n",
            "[593]\ttraining's rmse: 3.35208\n",
            "[594]\ttraining's rmse: 3.35197\n",
            "[595]\ttraining's rmse: 3.35184\n",
            "[596]\ttraining's rmse: 3.35174\n",
            "[597]\ttraining's rmse: 3.35169\n",
            "[598]\ttraining's rmse: 3.35161\n",
            "[599]\ttraining's rmse: 3.3515\n",
            "[600]\ttraining's rmse: 3.35143\n",
            "[601]\ttraining's rmse: 3.35136\n",
            "[602]\ttraining's rmse: 3.35132\n",
            "[603]\ttraining's rmse: 3.35124\n",
            "[604]\ttraining's rmse: 3.35117\n",
            "[605]\ttraining's rmse: 3.35111\n",
            "[606]\ttraining's rmse: 3.35106\n",
            "[607]\ttraining's rmse: 3.35103\n",
            "[608]\ttraining's rmse: 3.35098\n",
            "[609]\ttraining's rmse: 3.3509\n",
            "[610]\ttraining's rmse: 3.35087\n",
            "[611]\ttraining's rmse: 3.35084\n",
            "[612]\ttraining's rmse: 3.35077\n",
            "[613]\ttraining's rmse: 3.35071\n",
            "[614]\ttraining's rmse: 3.35062\n",
            "[615]\ttraining's rmse: 3.35055\n",
            "[616]\ttraining's rmse: 3.3505\n",
            "[617]\ttraining's rmse: 3.3504\n",
            "[618]\ttraining's rmse: 3.35035\n",
            "[619]\ttraining's rmse: 3.35029\n",
            "[620]\ttraining's rmse: 3.35014\n",
            "[621]\ttraining's rmse: 3.35003\n",
            "[622]\ttraining's rmse: 3.34999\n",
            "[623]\ttraining's rmse: 3.34986\n",
            "[624]\ttraining's rmse: 3.34971\n",
            "[625]\ttraining's rmse: 3.34961\n",
            "[626]\ttraining's rmse: 3.34959\n",
            "[627]\ttraining's rmse: 3.34951\n",
            "[628]\ttraining's rmse: 3.34948\n",
            "[629]\ttraining's rmse: 3.34937\n",
            "[630]\ttraining's rmse: 3.34931\n",
            "[631]\ttraining's rmse: 3.34918\n",
            "[632]\ttraining's rmse: 3.34911\n",
            "[633]\ttraining's rmse: 3.34899\n",
            "[634]\ttraining's rmse: 3.34889\n",
            "[635]\ttraining's rmse: 3.34883\n",
            "[636]\ttraining's rmse: 3.34879\n",
            "[637]\ttraining's rmse: 3.34871\n",
            "[638]\ttraining's rmse: 3.34851\n",
            "[639]\ttraining's rmse: 3.34846\n",
            "[640]\ttraining's rmse: 3.34844\n",
            "[641]\ttraining's rmse: 3.34837\n",
            "[642]\ttraining's rmse: 3.34828\n",
            "[643]\ttraining's rmse: 3.3482\n",
            "[644]\ttraining's rmse: 3.34815\n",
            "[645]\ttraining's rmse: 3.3481\n",
            "[646]\ttraining's rmse: 3.348\n",
            "[647]\ttraining's rmse: 3.34788\n",
            "[648]\ttraining's rmse: 3.34783\n",
            "[649]\ttraining's rmse: 3.34769\n",
            "[650]\ttraining's rmse: 3.34754\n",
            "[651]\ttraining's rmse: 3.34745\n",
            "[652]\ttraining's rmse: 3.34733\n",
            "[653]\ttraining's rmse: 3.34707\n",
            "[654]\ttraining's rmse: 3.34699\n",
            "[655]\ttraining's rmse: 3.34694\n",
            "[656]\ttraining's rmse: 3.34684\n",
            "[657]\ttraining's rmse: 3.34676\n",
            "[658]\ttraining's rmse: 3.34666\n",
            "[659]\ttraining's rmse: 3.34661\n",
            "[660]\ttraining's rmse: 3.3465\n",
            "[661]\ttraining's rmse: 3.34636\n",
            "[662]\ttraining's rmse: 3.34628\n",
            "[663]\ttraining's rmse: 3.34623\n",
            "[664]\ttraining's rmse: 3.34616\n",
            "[665]\ttraining's rmse: 3.34608\n",
            "[666]\ttraining's rmse: 3.34602\n",
            "[667]\ttraining's rmse: 3.34596\n",
            "[668]\ttraining's rmse: 3.34592\n",
            "[669]\ttraining's rmse: 3.34585\n",
            "[670]\ttraining's rmse: 3.34578\n",
            "[671]\ttraining's rmse: 3.3457\n",
            "[672]\ttraining's rmse: 3.34559\n",
            "[673]\ttraining's rmse: 3.34553\n",
            "[674]\ttraining's rmse: 3.34543\n",
            "[675]\ttraining's rmse: 3.34534\n",
            "[676]\ttraining's rmse: 3.34531\n",
            "[677]\ttraining's rmse: 3.34523\n",
            "[678]\ttraining's rmse: 3.34516\n",
            "[679]\ttraining's rmse: 3.34507\n",
            "[680]\ttraining's rmse: 3.34502\n",
            "[681]\ttraining's rmse: 3.34492\n",
            "[682]\ttraining's rmse: 3.34487\n",
            "[683]\ttraining's rmse: 3.34485\n",
            "[684]\ttraining's rmse: 3.34467\n",
            "[685]\ttraining's rmse: 3.34462\n",
            "[686]\ttraining's rmse: 3.34457\n",
            "[687]\ttraining's rmse: 3.3445\n",
            "[688]\ttraining's rmse: 3.34445\n",
            "[689]\ttraining's rmse: 3.34439\n",
            "[690]\ttraining's rmse: 3.34429\n",
            "[691]\ttraining's rmse: 3.34425\n",
            "[692]\ttraining's rmse: 3.34418\n",
            "[693]\ttraining's rmse: 3.34408\n",
            "[694]\ttraining's rmse: 3.34401\n",
            "[695]\ttraining's rmse: 3.34392\n",
            "[696]\ttraining's rmse: 3.34385\n",
            "[697]\ttraining's rmse: 3.34378\n",
            "[698]\ttraining's rmse: 3.34364\n",
            "[699]\ttraining's rmse: 3.34356\n",
            "[700]\ttraining's rmse: 3.34346\n",
            "[701]\ttraining's rmse: 3.34338\n",
            "[702]\ttraining's rmse: 3.34332\n",
            "[703]\ttraining's rmse: 3.34329\n",
            "[704]\ttraining's rmse: 3.34324\n",
            "[705]\ttraining's rmse: 3.34317\n",
            "[706]\ttraining's rmse: 3.34307\n",
            "[707]\ttraining's rmse: 3.343\n",
            "[708]\ttraining's rmse: 3.34288\n",
            "[709]\ttraining's rmse: 3.34278\n",
            "[710]\ttraining's rmse: 3.34275\n",
            "[711]\ttraining's rmse: 3.34269\n",
            "[712]\ttraining's rmse: 3.34263\n",
            "[713]\ttraining's rmse: 3.34253\n",
            "[714]\ttraining's rmse: 3.3424\n",
            "[715]\ttraining's rmse: 3.34236\n",
            "[716]\ttraining's rmse: 3.34231\n",
            "[717]\ttraining's rmse: 3.34227\n",
            "[718]\ttraining's rmse: 3.34214\n",
            "[719]\ttraining's rmse: 3.3421\n",
            "[720]\ttraining's rmse: 3.34205\n",
            "[721]\ttraining's rmse: 3.34199\n",
            "[722]\ttraining's rmse: 3.34194\n",
            "[723]\ttraining's rmse: 3.34188\n",
            "[724]\ttraining's rmse: 3.34182\n",
            "[725]\ttraining's rmse: 3.34178\n",
            "[726]\ttraining's rmse: 3.34175\n",
            "[727]\ttraining's rmse: 3.34172\n",
            "[728]\ttraining's rmse: 3.34165\n",
            "[729]\ttraining's rmse: 3.34148\n",
            "[730]\ttraining's rmse: 3.34138\n",
            "[731]\ttraining's rmse: 3.34131\n",
            "[732]\ttraining's rmse: 3.34128\n",
            "[733]\ttraining's rmse: 3.34122\n",
            "[734]\ttraining's rmse: 3.34115\n",
            "[735]\ttraining's rmse: 3.34109\n",
            "[736]\ttraining's rmse: 3.34102\n",
            "[737]\ttraining's rmse: 3.34098\n",
            "[738]\ttraining's rmse: 3.34093\n",
            "[739]\ttraining's rmse: 3.34084\n",
            "[740]\ttraining's rmse: 3.34075\n",
            "[741]\ttraining's rmse: 3.34071\n",
            "[742]\ttraining's rmse: 3.34064\n",
            "[743]\ttraining's rmse: 3.34053\n",
            "[744]\ttraining's rmse: 3.34045\n",
            "[745]\ttraining's rmse: 3.34031\n",
            "[746]\ttraining's rmse: 3.34023\n",
            "[747]\ttraining's rmse: 3.34016\n",
            "[748]\ttraining's rmse: 3.34009\n",
            "[749]\ttraining's rmse: 3.34003\n",
            "[750]\ttraining's rmse: 3.33996\n",
            "[751]\ttraining's rmse: 3.33987\n",
            "[752]\ttraining's rmse: 3.33978\n",
            "[753]\ttraining's rmse: 3.33972\n",
            "[754]\ttraining's rmse: 3.33967\n",
            "[755]\ttraining's rmse: 3.33965\n",
            "[756]\ttraining's rmse: 3.33959\n",
            "[757]\ttraining's rmse: 3.33954\n",
            "[758]\ttraining's rmse: 3.33944\n",
            "[759]\ttraining's rmse: 3.33939\n",
            "[760]\ttraining's rmse: 3.33931\n",
            "[761]\ttraining's rmse: 3.33924\n",
            "[762]\ttraining's rmse: 3.33912\n",
            "[763]\ttraining's rmse: 3.33908\n",
            "[764]\ttraining's rmse: 3.33903\n",
            "[765]\ttraining's rmse: 3.339\n",
            "[766]\ttraining's rmse: 3.33896\n",
            "[767]\ttraining's rmse: 3.33894\n",
            "[768]\ttraining's rmse: 3.33886\n",
            "[769]\ttraining's rmse: 3.3388\n",
            "[770]\ttraining's rmse: 3.33875\n",
            "[771]\ttraining's rmse: 3.33869\n",
            "[772]\ttraining's rmse: 3.33863\n",
            "[773]\ttraining's rmse: 3.33855\n",
            "[774]\ttraining's rmse: 3.33836\n",
            "[775]\ttraining's rmse: 3.3383\n",
            "[776]\ttraining's rmse: 3.33823\n",
            "[777]\ttraining's rmse: 3.33821\n",
            "[778]\ttraining's rmse: 3.33816\n",
            "[779]\ttraining's rmse: 3.33811\n",
            "[780]\ttraining's rmse: 3.33807\n",
            "[781]\ttraining's rmse: 3.33798\n",
            "[782]\ttraining's rmse: 3.33795\n",
            "[783]\ttraining's rmse: 3.3379\n",
            "[784]\ttraining's rmse: 3.33786\n",
            "[785]\ttraining's rmse: 3.33779\n",
            "[786]\ttraining's rmse: 3.33776\n",
            "[787]\ttraining's rmse: 3.3377\n",
            "[788]\ttraining's rmse: 3.33765\n",
            "[789]\ttraining's rmse: 3.33761\n",
            "[790]\ttraining's rmse: 3.33758\n",
            "[791]\ttraining's rmse: 3.33751\n",
            "[792]\ttraining's rmse: 3.33745\n",
            "[793]\ttraining's rmse: 3.33738\n",
            "[794]\ttraining's rmse: 3.33735\n",
            "[795]\ttraining's rmse: 3.33725\n",
            "[796]\ttraining's rmse: 3.33721\n",
            "[797]\ttraining's rmse: 3.33714\n",
            "[798]\ttraining's rmse: 3.33712\n",
            "[799]\ttraining's rmse: 3.33708\n",
            "[800]\ttraining's rmse: 3.33706\n",
            "Test RMSE: 3.331\n"
          ],
          "name": "stdout"
        }
      ]
    },
    {
      "cell_type": "code",
      "metadata": {
        "id": "Xe_lC3A4cmFa",
        "colab_type": "code",
        "outputId": "643d2f85-57a1-42d6-86e5-a7aa658ab4ec",
        "colab": {
          "base_uri": "https://localhost:8080/",
          "height": 312
        }
      },
      "source": [
        "lgb.plot_metric(evals_result)"
      ],
      "execution_count": 25,
      "outputs": [
        {
          "output_type": "execute_result",
          "data": {
            "text/plain": [
              "<matplotlib.axes._subplots.AxesSubplot at 0x7f7aa121e390>"
            ]
          },
          "metadata": {
            "tags": []
          },
          "execution_count": 25
        },
        {
          "output_type": "display_data",
          "data": {
            "image/png": "[encoded data removed]",
            "text/plain": [
              "<Figure size 432x288 with 1 Axes>"
            ]
          },
          "metadata": {
            "tags": []
          }
        }
      ]
    },
    {
      "cell_type": "code",
      "metadata": {
        "id": "d-xtFdEOi_bX",
        "colab_type": "code",
        "outputId": "2ee13783-be2c-4c0b-f75e-aaba19428df0",
        "colab": {
          "base_uri": "https://localhost:8080/",
          "height": 34
        }
      },
      "source": [
        "# save the model to disk\n",
        "filename = 'finalized_lgbm_model.sav'\n",
        "joblib.dump(model2_lb, filename)"
      ],
      "execution_count": 26,
      "outputs": [
        {
          "output_type": "execute_result",
          "data": {
            "text/plain": [
              "['finalized_lgbm_model.sav']"
            ]
          },
          "metadata": {
            "tags": []
          },
          "execution_count": 26
        }
      ]
    },
    {
      "cell_type": "code",
      "metadata": {
        "id": "-BMHG8aMgly3",
        "colab_type": "code",
        "outputId": "da84ddee-5754-4b55-8692-41be01c23151",
        "colab": {
          "base_uri": "https://localhost:8080/",
          "height": 34
        }
      },
      "source": [
        "#to see if the saved models is working properly\n",
        "loaded_model_lgbm = joblib.load(filename)\n",
        "result = loaded_model_lgbm.predict(test_dataset[0:5])\n",
        "print(result)"
      ],
      "execution_count": 27,
      "outputs": [
        {
          "output_type": "stream",
          "text": [
            "[ 9.54401125 10.59174531  5.97892698  8.43285388 15.93744653]\n"
          ],
          "name": "stdout"
        }
      ]
    },
    {
      "cell_type": "code",
      "metadata": {
        "id": "aqH__dwK8zyX",
        "colab_type": "code",
        "outputId": "1ba05fb1-fac1-4776-9b5f-d7720a22d5a4",
        "colab": {
          "base_uri": "https://localhost:8080/",
          "height": 170
        }
      },
      "source": [
        "sample_test = pd.read_csv(SAMPLE_TEST_PATH)\n",
        "#print(sample_test.describe())\n",
        "\n",
        "fare = sample_test['fare_amount']\n",
        "\n",
        "def preprocess(test_df):\n",
        "    test_df['pickup_datetime'] = test_df['pickup_datetime'].str.slice(0, 16)\n",
        "    test_df['pickup_datetime'] = pd.to_datetime(test_df['pickup_datetime'], utc=True, \n",
        "                                                      format='%Y-%m-%d %H:%M')\n",
        "    \n",
        "    add_datetime_features(test_df)\n",
        "            \n",
        "    #add distance travelled by the cab to dataframe\n",
        "    test_df['haversine_distnace'] = add_distance(test_df.pickup_latitude, test_df.pickup_longitude,\n",
        "                        test_df.dropoff_latitude, test_df.dropoff_longitude)\n",
        "\n",
        "     #add direction of the distance\n",
        "    test_df['direction'] = calculate_direction(test_df.pickup_latitude, test_df.pickup_longitude,\n",
        "                        test_df.dropoff_latitude, test_df.dropoff_longitude)\n",
        "    \n",
        "    pickup_JFK, dropoff_JFK = add_dist_from_jfk(test_df)\n",
        "    test_df['JFK_distance'] = pd.concat([pickup_JFK, dropoff_JFK], axis=1).min(axis=1)\n",
        "    \n",
        "    features_to_drop = ['key', 'fare_amount', 'pickup_longitude',\t'pickup_latitude', 'dropoff_longitude',\t'dropoff_latitude', 'day', 'weekday', 'pickup_datetime']\n",
        "    test_df.drop(labels = features_to_drop, axis=1, inplace=True)\n",
        "    print(test_df.shape)   \n",
        "\n",
        "    return test_df\n",
        "\n",
        "preprocess(sample_test)\n",
        "print(sample_test)"
      ],
      "execution_count": 30,
      "outputs": [
        {
          "output_type": "stream",
          "text": [
            "(5, 7)\n",
            "   passenger_count  hour  month  ...  haversine_distnace  direction  JFK_distance\n",
            "0                2    15      5  ...            0.745384  -0.949962     13.653239\n",
            "1                1    16     12  ...            3.357811   2.628814     12.908083\n",
            "2                2     1      8  ...            2.125929   3.133716     12.879251\n",
            "3                1    14     12  ...            0.926880  -0.954513     12.842885\n",
            "4                1     4      8  ...            7.769112  -0.574277     13.490436\n",
            "\n",
            "[5 rows x 7 columns]\n"
          ],
          "name": "stdout"
        }
      ]
    },
    {
      "cell_type": "code",
      "metadata": {
        "id": "sEE4GBi1OpYm",
        "colab_type": "code",
        "outputId": "33bc6976-82da-4404-9b21-5386ffcf529d",
        "colab": {
          "base_uri": "https://localhost:8080/",
          "height": 34
        }
      },
      "source": [
        "pred_test_lin_reg = loaded_model_lin_reg.predict(sample_test)\n",
        "print(pred_test_lin_reg)"
      ],
      "execution_count": 34,
      "outputs": [
        {
          "output_type": "stream",
          "text": [
            "[ 6.65862565 15.81628722 10.19089463  7.35651373 23.82218458]\n"
          ],
          "name": "stdout"
        }
      ]
    },
    {
      "cell_type": "code",
      "metadata": {
        "id": "o-ASSp4aQfui",
        "colab_type": "code",
        "outputId": "9f96eebb-4dce-4c44-e0f8-1dbedd5de81c",
        "colab": {
          "base_uri": "https://localhost:8080/",
          "height": 119
        }
      },
      "source": [
        "print(fare)"
      ],
      "execution_count": 35,
      "outputs": [
        {
          "output_type": "stream",
          "text": [
            "0    10.10\n",
            "1    16.50\n",
            "2    15.07\n",
            "3     7.70\n",
            "4    24.90\n",
            "Name: fare_amount, dtype: float64\n"
          ],
          "name": "stdout"
        }
      ]
    },
    {
      "cell_type": "code",
      "metadata": {
        "id": "LWjslW-OQoiE",
        "colab_type": "code",
        "outputId": "f79dd98f-b335-433d-dd20-8e125ea49fcc",
        "colab": {
          "base_uri": "https://localhost:8080/",
          "height": 34
        }
      },
      "source": [
        "pred_test_lgbm = loaded_model_lgbm.predict(sample_test)\n",
        "print(pred_test_lgbm)"
      ],
      "execution_count": 36,
      "outputs": [
        {
          "output_type": "stream",
          "text": [
            "[ 6.51638771 18.75590053  9.96940814  7.41013744 24.81982341]\n"
          ],
          "name": "stdout"
        }
      ]
    }
  ]
}