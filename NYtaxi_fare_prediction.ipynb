{
 "cells": [
  {
   "cell_type": "code",
   "execution_count": 1,
   "metadata": {},
   "outputs": [],
   "source": [
    "import numpy as np\n",
    "import pandas as pd\n",
    "import os\n",
    "import datetime as dt\n",
    "import matplotlib.pyplot as plt\n",
    "import seaborn as sbn\n",
    "\n",
    "#print(os.listdir(\"/home/sam2220/Desktop/ML_projects/NY_taxi_fare_prediction/kaggle_challenge_dataset\"))"
   ]
  },
  {
   "cell_type": "code",
   "execution_count": 2,
   "metadata": {},
   "outputs": [
    {
     "data": {
      "text/plain": [
       "'\\nwith open(TRAIN_PATH) as file:\\n    len_train = len(file.readlines())\\n\\nprint(len_train)\\n'"
      ]
     },
     "execution_count": 2,
     "metadata": {},
     "output_type": "execute_result"
    }
   ],
   "source": [
    "#read train and test dataset \n",
    "TRAIN_PATH = \"/home/sam2220/Desktop/ML_projects/NY_taxi_fare_prediction/kaggle_challenge_dataset/train.csv\"\n",
    "TEST_PATH = \"/home/sam2220/Desktop/ML_projects/NY_taxi_fare_prediction/kaggle_challenge_dataset/test.csv\"\n",
    "'''\n",
    "with open(TRAIN_PATH) as file:\n",
    "    len_train = len(file.readlines())\n",
    "\n",
    "print(len_train)\n",
    "'''"
   ]
  },
  {
   "cell_type": "code",
   "execution_count": 3,
   "metadata": {},
   "outputs": [],
   "source": [
    "#train_temp = pd.read_csv(TRAIN_PATH, nrows=5)\n",
    "#print(\"training dataset head:\")\n",
    "#print(train_temp)\n",
    "#test_temp = pd.read_csv(TEST_PATH, nrows=5)\n",
    "#print(\"test dataset head:\")\n",
    "#print(test_temp)"
   ]
  },
  {
   "cell_type": "code",
   "execution_count": 8,
   "metadata": {},
   "outputs": [
    {
     "name": "stdout",
     "output_type": "stream",
     "text": [
      "(958546, 13)\n"
     ]
    }
   ],
   "source": [
    "#chunksize = 1000\n",
    "\n",
    "train_types = {'fare_amount': 'float32',\n",
    "              'pickup_datetime': 'str', \n",
    "              'pickup_longitude': 'float32',\n",
    "              'pickup_latitude': 'float32',\n",
    "              'dropoff_longitude': 'float32',\n",
    "              'dropoff_latitude': 'float32',\n",
    "              'passenger_count': 'uint8'}\n",
    "\n",
    "test_types =  {'pickup_datetime': 'str', \n",
    "              'pickup_longitude': 'float32',\n",
    "              'pickup_latitude': 'float32',\n",
    "              'dropoff_longitude': 'float32',\n",
    "              'dropoff_latitude': 'float32',\n",
    "              'passenger_count': 'uint8'}\n",
    "\n",
    "train_cols = list(train_types.keys())\n",
    "test_cols = list(test_types.keys())\n",
    "\n",
    "def clean_df(PATH, cols, datatypes, chunksize):\n",
    "    if PATH == TEST_PATH:\n",
    "        df_list = []\n",
    "        for chunk in pd.read_csv(PATH, usecols = cols, dtype=datatypes, chunksize=chunksize):\n",
    "            chunk['pickup_datetime'] = chunk['pickup_datetime'].str.slice(0, 16)\n",
    "            chunk['pickup_datetime'] = pd.to_datetime(chunk['pickup_datetime'], utc=True, \n",
    "                                                      format='%Y-%m-%d %H:%M')\n",
    "\n",
    "            df_list.append(chunk)\n",
    "            #print(len(df_list))\n",
    "        return pd.concat(df_list)\n",
    "    \n",
    "    elif(PATH == TRAIN_PATH):\n",
    "        X_df_list = []\n",
    "        y_df_list = []\n",
    "        #df_list = []\n",
    "        for chunk in pd.read_csv(PATH, usecols = cols, dtype=datatypes, chunksize=chunksize, nrows=1000000):  \n",
    "            #converting pickup datetime to proper format\n",
    "            chunk['pickup_datetime'] = chunk['pickup_datetime'].str.slice(0, 16)\n",
    "            chunk['pickup_datetime'] = pd.to_datetime(chunk['pickup_datetime'], utc=True, \n",
    "                                                      format='%Y-%m-%d %H:%M')\n",
    "            #outlier removal\n",
    "            #remove rows with passenger count 0 and more than 6\n",
    "            chunk = chunk[(chunk['passenger_count'] > 0) & (chunk['passenger_count'] < 7) ]\n",
    "            \n",
    "            #remove rows with fare amount less than $2 and greater than $400 \n",
    "            chunk = chunk[(chunk['fare_amount'] > 2.0) & (chunk['fare_amount'] < 400.0)]            \n",
    "            \n",
    "            #add datetime features to the data \n",
    "            #pickup_datetime -> hour, month, year, isWeekday, day\n",
    "            add_datetime_features(chunk)\n",
    "            \n",
    "            #removing data with missing points -> (does not affect the number of sample points)\n",
    "            #chunk = chunk.dropna(how = 'any', axis = 'rows')\n",
    "            \n",
    "            #add distance travelled by the cab to dataframe\n",
    "            chunk['haversine_distnace'] = add_distance(chunk.pickup_latitude, chunk.pickup_longitude,\n",
    "                        chunk.dropoff_latitude, chunk.dropoff_longitude)\n",
    "\n",
    "            #add direction of the distance\n",
    "            chunk['direction'] = calculate_direction(chunk.pickup_latitude, chunk.pickup_longitude,\n",
    "                        chunk.dropoff_latitude, chunk.dropoff_longitude)            \n",
    "            \n",
    "            chunk = chunk[(chunk['haversine_distnace'] > 0.1) & (chunk['haversine_distnace'] < 100)] \n",
    "            \n",
    "            #appending chunks to the dataframe list\n",
    "            #df_list.append(chunk)\n",
    "            y_df_list.append(chunk['fare_amount'])\n",
    "            chunk.drop(labels = 'fare_amount', axis=1, inplace=True)\n",
    "            X_df_list.append(chunk)\n",
    "            \n",
    "        #df = pd.concat(df_list)\n",
    "        X_df = pd.concat(X_df_list)\n",
    "        y_df = pd.concat(y_df_list)\n",
    "        return  X_df, y_df\n",
    "\n",
    "def add_datetime_features(data_chunk):\n",
    "    data_chunk['hour'] = data_chunk.pickup_datetime.dt.hour\n",
    "    data_chunk['day'] = data_chunk.pickup_datetime.dt.day\n",
    "    data_chunk['month'] = data_chunk.pickup_datetime.dt.month\n",
    "    data_chunk['weekday'] = data_chunk.pickup_datetime.dt.weekday\n",
    "    data_chunk['year'] = data_chunk.pickup_datetime.dt.year\n",
    "    \n",
    "    return data_chunk\n",
    "    \n",
    "def add_distance(lat1, lon1, lat2, lon2):\n",
    "    p = np.pi/180.0\n",
    "    a = 0.5 - np.cos((lat2 - lat1) * p)/2 + np.cos(lat1 * p) * np.cos(lat2 * p) * (1 - np.cos((lon2 - lon1) * p)) / 2\n",
    "    return 0.6213712 * 12742 * np.arcsin(np.sqrt(a)) # 2*R*asin...    \n",
    "\n",
    "def calculate_direction(pickup_lat, pickup_lon, dropoff_lat, dropoff_lon):\n",
    "    \"\"\"\n",
    "    Return distance along great radius between pickup and dropoff coordinates.\n",
    "    \"\"\"\n",
    "    #Define earth radius (km)\n",
    "    R_earth = 6371\n",
    "    #Convert degrees to radians\n",
    "    pickup_lat, pickup_lon, dropoff_lat, dropoff_lon = map(np.radians,\n",
    "                                                             [pickup_lat, pickup_lon, \n",
    "                                                              dropoff_lat, dropoff_lon])\n",
    "    #Compute distances along lat, lon dimensions\n",
    "    dlat = dropoff_lat - pickup_lat\n",
    "    dlon = pickup_lon - dropoff_lon\n",
    "    \n",
    "    #Compute bearing distance\n",
    "    a = np.arctan2(np.sin(dlon * np.cos(dropoff_lat)),np.cos(pickup_lat) * np.sin(dropoff_lat) - np.sin(pickup_lat) * np.cos(dropoff_lat) * np.cos(dlon))\n",
    "    return a\n",
    "\n",
    "#insample dataset\n",
    "train_target, train_label = clean_df(TRAIN_PATH, train_cols, train_types, chunksize = 50000)\n",
    "#n_train = len(train_label)\n",
    "print(train_target.shape)\n",
    "\n",
    "#out of samples dataset\n",
    "#test_dataset = clean_df(TEST_PATH, test_cols, test_types, chunksize = 2000)\n",
    "#n_test = len(test_dataset)\n",
    "#print(n_test)"
   ]
  },
  {
   "cell_type": "code",
   "execution_count": 9,
   "metadata": {},
   "outputs": [
    {
     "data": {
      "text/html": [
       "<div>\n",
       "<style scoped>\n",
       "    .dataframe tbody tr th:only-of-type {\n",
       "        vertical-align: middle;\n",
       "    }\n",
       "\n",
       "    .dataframe tbody tr th {\n",
       "        vertical-align: top;\n",
       "    }\n",
       "\n",
       "    .dataframe thead th {\n",
       "        text-align: right;\n",
       "    }\n",
       "</style>\n",
       "<table border=\"1\" class=\"dataframe\">\n",
       "  <thead>\n",
       "    <tr style=\"text-align: right;\">\n",
       "      <th></th>\n",
       "      <th>pickup_longitude</th>\n",
       "      <th>pickup_latitude</th>\n",
       "      <th>dropoff_longitude</th>\n",
       "      <th>dropoff_latitude</th>\n",
       "      <th>passenger_count</th>\n",
       "      <th>hour</th>\n",
       "      <th>day</th>\n",
       "      <th>month</th>\n",
       "      <th>weekday</th>\n",
       "      <th>year</th>\n",
       "      <th>haversine_distnace</th>\n",
       "      <th>direction</th>\n",
       "    </tr>\n",
       "  </thead>\n",
       "  <tbody>\n",
       "    <tr>\n",
       "      <td>count</td>\n",
       "      <td>958546.000000</td>\n",
       "      <td>958546.000000</td>\n",
       "      <td>958546.000000</td>\n",
       "      <td>958546.000000</td>\n",
       "      <td>958546.000000</td>\n",
       "      <td>958546.000000</td>\n",
       "      <td>958546.000000</td>\n",
       "      <td>958546.000000</td>\n",
       "      <td>958546.000000</td>\n",
       "      <td>958546.000000</td>\n",
       "      <td>958546.000000</td>\n",
       "      <td>958546.000000</td>\n",
       "    </tr>\n",
       "    <tr>\n",
       "      <td>mean</td>\n",
       "      <td>-73.143059</td>\n",
       "      <td>40.318642</td>\n",
       "      <td>-73.140427</td>\n",
       "      <td>40.318661</td>\n",
       "      <td>1.692181</td>\n",
       "      <td>13.516277</td>\n",
       "      <td>15.694221</td>\n",
       "      <td>6.269563</td>\n",
       "      <td>3.039349</td>\n",
       "      <td>2011.747400</td>\n",
       "      <td>2.120711</td>\n",
       "      <td>0.308140</td>\n",
       "    </tr>\n",
       "    <tr>\n",
       "      <td>std</td>\n",
       "      <td>2.746906</td>\n",
       "      <td>2.632319</td>\n",
       "      <td>2.748294</td>\n",
       "      <td>2.607895</td>\n",
       "      <td>1.306795</td>\n",
       "      <td>6.510949</td>\n",
       "      <td>8.682668</td>\n",
       "      <td>3.437157</td>\n",
       "      <td>1.949542</td>\n",
       "      <td>1.866744</td>\n",
       "      <td>2.543168</td>\n",
       "      <td>1.832241</td>\n",
       "    </tr>\n",
       "    <tr>\n",
       "      <td>min</td>\n",
       "      <td>-78.650909</td>\n",
       "      <td>-74.016586</td>\n",
       "      <td>-78.659447</td>\n",
       "      <td>-74.035194</td>\n",
       "      <td>1.000000</td>\n",
       "      <td>0.000000</td>\n",
       "      <td>1.000000</td>\n",
       "      <td>1.000000</td>\n",
       "      <td>0.000000</td>\n",
       "      <td>2009.000000</td>\n",
       "      <td>0.100071</td>\n",
       "      <td>-3.141503</td>\n",
       "    </tr>\n",
       "    <tr>\n",
       "      <td>25%</td>\n",
       "      <td>-73.992279</td>\n",
       "      <td>40.736588</td>\n",
       "      <td>-73.991570</td>\n",
       "      <td>40.735588</td>\n",
       "      <td>1.000000</td>\n",
       "      <td>9.000000</td>\n",
       "      <td>8.000000</td>\n",
       "      <td>3.000000</td>\n",
       "      <td>1.000000</td>\n",
       "      <td>2010.000000</td>\n",
       "      <td>0.805444</td>\n",
       "      <td>-0.892707</td>\n",
       "    </tr>\n",
       "    <tr>\n",
       "      <td>50%</td>\n",
       "      <td>-73.982109</td>\n",
       "      <td>40.753410</td>\n",
       "      <td>-73.980621</td>\n",
       "      <td>40.753880</td>\n",
       "      <td>1.000000</td>\n",
       "      <td>14.000000</td>\n",
       "      <td>16.000000</td>\n",
       "      <td>6.000000</td>\n",
       "      <td>3.000000</td>\n",
       "      <td>2012.000000</td>\n",
       "      <td>1.363956</td>\n",
       "      <td>-0.125228</td>\n",
       "    </tr>\n",
       "    <tr>\n",
       "      <td>75%</td>\n",
       "      <td>-73.968491</td>\n",
       "      <td>40.767574</td>\n",
       "      <td>-73.965515</td>\n",
       "      <td>40.768421</td>\n",
       "      <td>2.000000</td>\n",
       "      <td>19.000000</td>\n",
       "      <td>23.000000</td>\n",
       "      <td>9.000000</td>\n",
       "      <td>5.000000</td>\n",
       "      <td>2013.000000</td>\n",
       "      <td>2.470330</td>\n",
       "      <td>2.261664</td>\n",
       "    </tr>\n",
       "    <tr>\n",
       "      <td>max</td>\n",
       "      <td>40.850357</td>\n",
       "      <td>401.083344</td>\n",
       "      <td>40.851028</td>\n",
       "      <td>51.346519</td>\n",
       "      <td>6.000000</td>\n",
       "      <td>23.000000</td>\n",
       "      <td>31.000000</td>\n",
       "      <td>12.000000</td>\n",
       "      <td>6.000000</td>\n",
       "      <td>2015.000000</td>\n",
       "      <td>92.051299</td>\n",
       "      <td>3.141593</td>\n",
       "    </tr>\n",
       "  </tbody>\n",
       "</table>\n",
       "</div>"
      ],
      "text/plain": [
       "       pickup_longitude  pickup_latitude  dropoff_longitude  dropoff_latitude  \\\n",
       "count     958546.000000    958546.000000      958546.000000     958546.000000   \n",
       "mean         -73.143059        40.318642         -73.140427         40.318661   \n",
       "std            2.746906         2.632319           2.748294          2.607895   \n",
       "min          -78.650909       -74.016586         -78.659447        -74.035194   \n",
       "25%          -73.992279        40.736588         -73.991570         40.735588   \n",
       "50%          -73.982109        40.753410         -73.980621         40.753880   \n",
       "75%          -73.968491        40.767574         -73.965515         40.768421   \n",
       "max           40.850357       401.083344          40.851028         51.346519   \n",
       "\n",
       "       passenger_count           hour            day          month  \\\n",
       "count    958546.000000  958546.000000  958546.000000  958546.000000   \n",
       "mean          1.692181      13.516277      15.694221       6.269563   \n",
       "std           1.306795       6.510949       8.682668       3.437157   \n",
       "min           1.000000       0.000000       1.000000       1.000000   \n",
       "25%           1.000000       9.000000       8.000000       3.000000   \n",
       "50%           1.000000      14.000000      16.000000       6.000000   \n",
       "75%           2.000000      19.000000      23.000000       9.000000   \n",
       "max           6.000000      23.000000      31.000000      12.000000   \n",
       "\n",
       "             weekday           year  haversine_distnace      direction  \n",
       "count  958546.000000  958546.000000       958546.000000  958546.000000  \n",
       "mean        3.039349    2011.747400            2.120711       0.308140  \n",
       "std         1.949542       1.866744            2.543168       1.832241  \n",
       "min         0.000000    2009.000000            0.100071      -3.141503  \n",
       "25%         1.000000    2010.000000            0.805444      -0.892707  \n",
       "50%         3.000000    2012.000000            1.363956      -0.125228  \n",
       "75%         5.000000    2013.000000            2.470330       2.261664  \n",
       "max         6.000000    2015.000000           92.051299       3.141593  "
      ]
     },
     "execution_count": 9,
     "metadata": {},
     "output_type": "execute_result"
    }
   ],
   "source": [
    "train_target.describe()"
   ]
  },
  {
   "cell_type": "code",
   "execution_count": 10,
   "metadata": {},
   "outputs": [
    {
     "name": "stdout",
     "output_type": "stream",
     "text": [
      "(958546, 9)\n"
     ]
    }
   ],
   "source": [
    "#drop location features as the distance has already been calculated and added to the dataset\n",
    "features_to_drop = ['pickup_longitude',\t'pickup_latitude', 'dropoff_longitude',\t'dropoff_latitude']\n",
    "train_target.drop(labels = features_to_drop, axis=1, inplace=True)\n",
    "print(train_target.shape)"
   ]
  },
  {
   "cell_type": "code",
   "execution_count": 11,
   "metadata": {},
   "outputs": [
    {
     "data": {
      "text/plain": [
       "Text(0.5, 1.0, 'Histogram ride distances in miles')"
      ]
     },
     "execution_count": 11,
     "metadata": {},
     "output_type": "execute_result"
    },
    {
     "data": {
      "image/png": "[encoded data removed]",
      "text/plain": [
       "<Figure size 864x288 with 1 Axes>"
      ]
     },
     "metadata": {
      "needs_background": "light"
     },
     "output_type": "display_data"
    }
   ],
   "source": [
    "#histogram of haversine distance \n",
    "train_target[train_target.haversine_distnace<100].haversine_distnace.hist(bins=40, figsize=(12,4))\n",
    "plt.xlabel('distance miles')\n",
    "plt.title('Histogram ride distances in miles')"
   ]
  },
  {
   "cell_type": "code",
   "execution_count": 12,
   "metadata": {},
   "outputs": [
    {
     "name": "stdout",
     "output_type": "stream",
     "text": [
      "(958546, 10)\n"
     ]
    },
    {
     "data": {
      "image/png": "[encoded data removed]",
      "text/plain": [
       "<Figure size 864x864 with 2 Axes>"
      ]
     },
     "metadata": {
      "needs_background": "light"
     },
     "output_type": "display_data"
    }
   ],
   "source": [
    "train_df = pd.concat([train_target, train_label], axis = 1)\n",
    "print(train_df.shape)\n",
    "\n",
    "corrs = train_df.corr()\n",
    "plt.figure(figsize = (12, 12))\n",
    "sbn.heatmap(corrs, annot = True, vmin = -1, vmax = 1, fmt = '.3f', cmap=plt.cm.PiYG_r);\n"
   ]
  },
  {
   "cell_type": "code",
   "execution_count": null,
   "metadata": {},
   "outputs": [],
   "source": []
  }
 ],
 "metadata": {
  "kernelspec": {
   "display_name": "Python 3",
   "language": "python",
   "name": "python3"
  },
  "language_info": {
   "codemirror_mode": {
    "name": "ipython",
    "version": 3
   },
   "file_extension": ".py",
   "mimetype": "text/x-python",
   "name": "python",
   "nbconvert_exporter": "python",
   "pygments_lexer": "ipython3",
   "version": "3.7.4"
  }
 },
 "nbformat": 4,
 "nbformat_minor": 2
}
