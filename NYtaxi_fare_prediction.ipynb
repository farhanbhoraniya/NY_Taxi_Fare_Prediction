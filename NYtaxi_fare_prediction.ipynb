{
 "cells": [
  {
   "cell_type": "code",
   "execution_count": 7,
   "metadata": {},
   "outputs": [
    {
     "name": "stdout",
     "output_type": "stream",
     "text": [
      "['test.csv', '.~lock.sample_submission.csv#', 'sample_submission.csv', 'train.csv', 'GCP-Coupons-Instructions.rtf']\n"
     ]
    }
   ],
   "source": [
    "import numpy as np\n",
    "import pandas as pd\n",
    "import os\n",
    "from tqdm import tqdm\n",
    "\n",
    "print(os.listdir(\"/home/sam2220/Desktop/ML_projects/NY_taxi_fare_prediction/kaggle_challenge_dataset\"))"
   ]
  },
  {
   "cell_type": "code",
   "execution_count": 8,
   "metadata": {},
   "outputs": [
    {
     "name": "stdout",
     "output_type": "stream",
     "text": [
      "55423857\n"
     ]
    }
   ],
   "source": [
    "#read train and test dataset \n",
    "TRAIN_PATH = \"/home/sam2220/Desktop/ML_projects/NY_taxi_fare_prediction/kaggle_challenge_dataset/train.csv\"\n",
    "TEST_PATH = \"/home/sam2220/Desktop/ML_projects/NY_taxi_fare_prediction/kaggle_challenge_dataset/test.csv\"\n",
    "with open(TRAIN_PATH) as file:\n",
    "    len_train = len(file.readlines())\n",
    "\n",
    "print(len_train)"
   ]
  },
  {
   "cell_type": "code",
   "execution_count": 9,
   "metadata": {},
   "outputs": [
    {
     "name": "stdout",
     "output_type": "stream",
     "text": [
      "trainig dataset head:\n",
      "                             key  fare_amount          pickup_datetime  \\\n",
      "0    2009-06-15 17:26:21.0000001          4.5  2009-06-15 17:26:21 UTC   \n",
      "1    2010-01-05 16:52:16.0000002         16.9  2010-01-05 16:52:16 UTC   \n",
      "2   2011-08-18 00:35:00.00000049          5.7  2011-08-18 00:35:00 UTC   \n",
      "3    2012-04-21 04:30:42.0000001          7.7  2012-04-21 04:30:42 UTC   \n",
      "4  2010-03-09 07:51:00.000000135          5.3  2010-03-09 07:51:00 UTC   \n",
      "\n",
      "   pickup_longitude  pickup_latitude  dropoff_longitude  dropoff_latitude  \\\n",
      "0        -73.844311        40.721319         -73.841610         40.712278   \n",
      "1        -74.016048        40.711303         -73.979268         40.782004   \n",
      "2        -73.982738        40.761270         -73.991242         40.750562   \n",
      "3        -73.987130        40.733143         -73.991567         40.758092   \n",
      "4        -73.968095        40.768008         -73.956655         40.783762   \n",
      "\n",
      "   passenger_count  \n",
      "0                1  \n",
      "1                1  \n",
      "2                2  \n",
      "3                1  \n",
      "4                1  \n"
     ]
    }
   ],
   "source": [
    "train_temp = pd.read_csv(TRAIN_PATH, nrows=5)\n",
    "print(\"trainig dataset head:\")\n",
    "print(train_temp)\n",
    "#test_temp = pd.read_csv(TEST_PATH, nrows=5)\n",
    "#print(\"test dataset head:\")\n",
    "#print(test_temp)"
   ]
  },
  {
   "cell_type": "code",
   "execution_count": 14,
   "metadata": {},
   "outputs": [
    {
     "name": "stdout",
     "output_type": "stream",
     "text": [
      "55423856\n",
      "9914\n"
     ]
    }
   ],
   "source": [
    "#chunksize = 1000\n",
    "\n",
    "train_types = {'fare_amount': 'float32',\n",
    "              'pickup_datetime': 'str', \n",
    "              'pickup_longitude': 'float32',\n",
    "              'pickup_latitude': 'float32',\n",
    "              'dropoff_longitude': 'float32',\n",
    "              'dropoff_latitude': 'float32',\n",
    "              'passenger_count': 'uint8'}\n",
    "\n",
    "test_types =  {'pickup_datetime': 'str', \n",
    "              'pickup_longitude': 'float32',\n",
    "              'pickup_latitude': 'float32',\n",
    "              'dropoff_longitude': 'float32',\n",
    "              'dropoff_latitude': 'float32',\n",
    "              'passenger_count': 'uint8'}\n",
    "\n",
    "train_cols = list(train_types.keys())\n",
    "test_cols = list(test_types.keys())\n",
    "\n",
    "def clean_df(PATH, cols, datatypes, chunksize):\n",
    "    if PATH == TEST_PATH:\n",
    "        df_list = []\n",
    "        for chunk in pd.read_csv(PATH, usecols = cols, dtype=datatypes, chunksize=chunksize):\n",
    "            chunk['pickup_datetime'] = chunk['pickup_datetime'].str.slice(0, 16)\n",
    "            chunk['pickup_datetime'] = pd.to_datetime(chunk['pickup_datetime'], utc=True, format='%Y-%m-%d %H:%M')\n",
    "\n",
    "            df_list.append(chunk)\n",
    "            #print(len(df_list))\n",
    "        return pd.concat(df_list)\n",
    "    \n",
    "    elif(PATH == TRAIN_PATH):\n",
    "        X_df_list = []\n",
    "        y_df_list = []\n",
    "        for chunk in pd.read_csv(PATH, usecols = cols, dtype=datatypes, chunksize=chunksize):            \n",
    "            chunk['pickup_datetime'] = chunk['pickup_datetime'].str.slice(0, 16)\n",
    "            chunk['pickup_datetime'] = pd.to_datetime(chunk['pickup_datetime'], utc=True, format='%Y-%m-%d %H:%M')\n",
    "            \n",
    "            y_df_list.append(chunk['fare_amount'])\n",
    "            chunk.drop(labels = 'fare_amount', axis=1, inplace=True)\n",
    "            X_df_list.append(chunk)\n",
    "        \n",
    "        X_df = pd.concat(X_df_list)\n",
    "        y_df = pd.concat(y_df_list)\n",
    "        return  X_df, y_df\n",
    "\n",
    "#insample dataset\n",
    "train_target, train_label = clean_df(TRAIN_PATH, train_cols, train_types, chunksize = 5000000)\n",
    "n_train = len(train_label)\n",
    "print(n_train)\n",
    "\n",
    "#out of samples dataset\n",
    "test_dataset = clean_df(TEST_PATH, test_cols, test_types, chunksize = 2000)\n",
    "n_test = len(test_dataset)\n",
    "print(n_test)"
   ]
  },
  {
   "cell_type": "code",
   "execution_count": null,
   "metadata": {},
   "outputs": [],
   "source": [
    "#separate label and features from training dataset\n",
    "'''\n",
    "features = test_cols\n",
    "X = train_dataset.loc[:, features].values\n",
    "y = train_dataset.iloc[:, 0].values\n",
    "print(X.shape())\n",
    "print(y.shape())\n",
    "'''"
   ]
  },
  {
   "cell_type": "code",
   "execution_count": null,
   "metadata": {},
   "outputs": [],
   "source": [
    "X = ['a', 'b', 'c']\n"
   ]
  },
  {
   "cell_type": "code",
   "execution_count": null,
   "metadata": {},
   "outputs": [],
   "source": []
  }
 ],
 "metadata": {
  "kernelspec": {
   "display_name": "Python 3",
   "language": "python",
   "name": "python3"
  },
  "language_info": {
   "codemirror_mode": {
    "name": "ipython",
    "version": 3
   },
   "file_extension": ".py",
   "mimetype": "text/x-python",
   "name": "python",
   "nbconvert_exporter": "python",
   "pygments_lexer": "ipython3",
   "version": "3.7.4"
  }
 },
 "nbformat": 4,
 "nbformat_minor": 2
}
